{
 "cells": [
  {
   "cell_type": "markdown",
   "metadata": {
    "id": "p0IEko43STh2"
   },
   "source": [
    "Import Nessasary Libraries"
   ]
  },
  {
   "cell_type": "code",
   "execution_count": 1,
   "metadata": {
    "id": "OZGS4KqtSSHi"
   },
   "outputs": [],
   "source": [
    "import pandas as pd\n",
    "import numpy as np\n",
    "import io\n",
    "from sklearn.preprocessing import StandardScaler\n",
    "from sklearn.model_selection import train_test_split\n",
    "import matplotlib.pyplot as plt\n",
    "import seaborn as sns\n",
    "import scipy.stats as stats\n",
    "import warnings\n",
    "warnings.filterwarnings(\"ignore\")"
   ]
  },
  {
   "cell_type": "markdown",
   "metadata": {
    "id": "qXeVhdZYi14K"
   },
   "source": [
    "Load The Dataset "
   ]
  },
  {
   "cell_type": "code",
   "execution_count": 2,
   "metadata": {
    "id": "3EM7oloqhRq_"
   },
   "outputs": [],
   "source": [
    "beeDataframe = pd.read_csv('Contact Information.csv')\n",
    "# Dataset is now stored in a Pandas Dataframe"
   ]
  },
  {
   "cell_type": "markdown",
   "metadata": {
    "id": "M7jMU5hKU8xB"
   },
   "source": [
    "Dataset information"
   ]
  },
  {
   "cell_type": "code",
   "execution_count": null,
   "metadata": {
    "colab": {
     "base_uri": "https://localhost:8080/"
    },
    "id": "TION3RoK8OJ7",
    "outputId": "17b40ded-7022-45a7-99d8-26f38c6e0a78"
   },
   "outputs": [
    {
     "name": "stdout",
     "output_type": "stream",
     "text": [
      "<class 'pandas.core.frame.DataFrame'>\n",
      "RangeIndex: 100 entries, 0 to 99\n",
      "Data columns (total 13 columns):\n",
      " #   Column                                                                      Non-Null Count  Dtype \n",
      "---  ------                                                                      --------------  ----- \n",
      " 0   Timestamp                                                                   100 non-null    object\n",
      " 1   Farmer's Name                                                               100 non-null    object\n",
      " 2   Which month has the highest yield?                                          100 non-null    object\n",
      " 3   What is the location of your hives?                                         100 non-null    object\n",
      " 4   How many hives do you have?                                                 100 non-null    object\n",
      " 5   What kind of mostly used flowers or crops are your bees pollinating?        100 non-null    object\n",
      " 6   How often do you harvest honey?                                             100 non-null    object\n",
      " 7   What is the average yield of honey per hive? (Pounds of honey per year)     100 non-null    object\n",
      " 8   Have you noticed any unusual behaviour or symptoms in your bees recently?   100 non-null    object\n",
      " 9   Have you observed any dead bees around the hives?                           100 non-null    object\n",
      " 10  How often do you inspect your hives for signs of disease or pests?          100 non-null    object\n",
      " 11  Have you noticed any changes in the size or activity of your bee colonies?  100 non-null    object\n",
      " 12  What temperature range is optimal for your bee colonies ? (Fahrenheit)      100 non-null    object\n",
      "dtypes: object(13)\n",
      "memory usage: 10.3+ KB\n"
     ]
    }
   ],
   "source": [
    "beeDataframe.info();"
   ]
  },
  {
   "cell_type": "markdown",
   "metadata": {
    "id": "iq4K_6rjj4HE"
   },
   "source": [
    "View the first 5 rows of the dataset\n"
   ]
  },
  {
   "cell_type": "code",
   "execution_count": 3,
   "metadata": {
    "colab": {
     "base_uri": "https://localhost:8080/",
     "height": 652
    },
    "id": "sTQHVtkihRtX",
    "outputId": "4f0e6f52-adc3-49bf-82ff-ce138c867568"
   },
   "outputs": [
    {
     "data": {
      "text/html": [
       "\n",
       "  <div id=\"df-8e640da1-cb26-4667-9a27-38440ae897f4\">\n",
       "    <div class=\"colab-df-container\">\n",
       "      <div>\n",
       "<style scoped>\n",
       "    .dataframe tbody tr th:only-of-type {\n",
       "        vertical-align: middle;\n",
       "    }\n",
       "\n",
       "    .dataframe tbody tr th {\n",
       "        vertical-align: top;\n",
       "    }\n",
       "\n",
       "    .dataframe thead th {\n",
       "        text-align: right;\n",
       "    }\n",
       "</style>\n",
       "<table border=\"1\" class=\"dataframe\">\n",
       "  <thead>\n",
       "    <tr style=\"text-align: right;\">\n",
       "      <th></th>\n",
       "      <th>Timestamp</th>\n",
       "      <th>Farmer's Name</th>\n",
       "      <th>Which month has the highest yield?</th>\n",
       "      <th>What is the location of your hives?</th>\n",
       "      <th>How many hives do you have?</th>\n",
       "      <th>What kind of mostly used flowers or crops are your bees pollinating?</th>\n",
       "      <th>How often do you harvest honey?</th>\n",
       "      <th>What is the average yield of honey per hive? (Pounds of honey per year)</th>\n",
       "      <th>Have you noticed any unusual behaviour or symptoms in your bees recently?</th>\n",
       "      <th>Have you observed any dead bees around the hives?</th>\n",
       "      <th>How often do you inspect your hives for signs of disease or pests?</th>\n",
       "      <th>Have you noticed any changes in the size or activity of your bee colonies?</th>\n",
       "      <th>What temperature range is optimal for your bee colonies ? (Fahrenheit)</th>\n",
       "    </tr>\n",
       "  </thead>\n",
       "  <tbody>\n",
       "    <tr>\n",
       "      <th>0</th>\n",
       "      <td>2023/03/04 6:02:31 PM GMT+5:30</td>\n",
       "      <td>Wimalasiri W.P</td>\n",
       "      <td>August</td>\n",
       "      <td>Uva Province</td>\n",
       "      <td>51-100</td>\n",
       "      <td>Vegetables</td>\n",
       "      <td>Once a Year</td>\n",
       "      <td>21-60</td>\n",
       "      <td>No</td>\n",
       "      <td>No</td>\n",
       "      <td>Every 2 Weeks</td>\n",
       "      <td>Yes</td>\n",
       "      <td>32-100</td>\n",
       "    </tr>\n",
       "    <tr>\n",
       "      <th>1</th>\n",
       "      <td>2023/03/04 6:03:40 PM GMT+5:30</td>\n",
       "      <td>Hansika</td>\n",
       "      <td>January</td>\n",
       "      <td>North Central Province</td>\n",
       "      <td>101-500</td>\n",
       "      <td>Sunflowers</td>\n",
       "      <td>Twice a Year</td>\n",
       "      <td>21-60</td>\n",
       "      <td>Yes</td>\n",
       "      <td>Yes</td>\n",
       "      <td>Every 2 Weeks</td>\n",
       "      <td>Yes</td>\n",
       "      <td>32-100</td>\n",
       "    </tr>\n",
       "    <tr>\n",
       "      <th>2</th>\n",
       "      <td>2023/03/04 6:05:29 PM GMT+5:30</td>\n",
       "      <td>Mr.Silva</td>\n",
       "      <td>February</td>\n",
       "      <td>Western Province</td>\n",
       "      <td>101-500</td>\n",
       "      <td>Sunflowers</td>\n",
       "      <td>Twice a Year</td>\n",
       "      <td>61-100</td>\n",
       "      <td>No</td>\n",
       "      <td>No</td>\n",
       "      <td>Every 2 Weeks</td>\n",
       "      <td>No</td>\n",
       "      <td>101-150</td>\n",
       "    </tr>\n",
       "    <tr>\n",
       "      <th>3</th>\n",
       "      <td>2023/03/04 6:11:44 PM GMT+5:30</td>\n",
       "      <td>J.Somasiri</td>\n",
       "      <td>August</td>\n",
       "      <td>Uva Province</td>\n",
       "      <td>101-500</td>\n",
       "      <td>Fruit trees</td>\n",
       "      <td>Once a Year</td>\n",
       "      <td>21-60</td>\n",
       "      <td>Yes</td>\n",
       "      <td>Yes</td>\n",
       "      <td>Every 2 Weeks</td>\n",
       "      <td>Yes</td>\n",
       "      <td>160 +</td>\n",
       "    </tr>\n",
       "    <tr>\n",
       "      <th>4</th>\n",
       "      <td>2023/03/04 6:13:15 PM GMT+5:30</td>\n",
       "      <td>J.Somasiri</td>\n",
       "      <td>January</td>\n",
       "      <td>Uva Province</td>\n",
       "      <td>101-500</td>\n",
       "      <td>Fruit trees</td>\n",
       "      <td>Once a Year</td>\n",
       "      <td>21-60</td>\n",
       "      <td>Yes</td>\n",
       "      <td>Yes</td>\n",
       "      <td>Every 2 Weeks</td>\n",
       "      <td>Yes</td>\n",
       "      <td>160 +</td>\n",
       "    </tr>\n",
       "  </tbody>\n",
       "</table>\n",
       "</div>\n",
       "      <button class=\"colab-df-convert\" onclick=\"convertToInteractive('df-8e640da1-cb26-4667-9a27-38440ae897f4')\"\n",
       "              title=\"Convert this dataframe to an interactive table.\"\n",
       "              style=\"display:none;\">\n",
       "        \n",
       "  <svg xmlns=\"http://www.w3.org/2000/svg\" height=\"24px\"viewBox=\"0 0 24 24\"\n",
       "       width=\"24px\">\n",
       "    <path d=\"M0 0h24v24H0V0z\" fill=\"none\"/>\n",
       "    <path d=\"M18.56 5.44l.94 2.06.94-2.06 2.06-.94-2.06-.94-.94-2.06-.94 2.06-2.06.94zm-11 1L8.5 8.5l.94-2.06 2.06-.94-2.06-.94L8.5 2.5l-.94 2.06-2.06.94zm10 10l.94 2.06.94-2.06 2.06-.94-2.06-.94-.94-2.06-.94 2.06-2.06.94z\"/><path d=\"M17.41 7.96l-1.37-1.37c-.4-.4-.92-.59-1.43-.59-.52 0-1.04.2-1.43.59L10.3 9.45l-7.72 7.72c-.78.78-.78 2.05 0 2.83L4 21.41c.39.39.9.59 1.41.59.51 0 1.02-.2 1.41-.59l7.78-7.78 2.81-2.81c.8-.78.8-2.07 0-2.86zM5.41 20L4 18.59l7.72-7.72 1.47 1.35L5.41 20z\"/>\n",
       "  </svg>\n",
       "      </button>\n",
       "      \n",
       "  <style>\n",
       "    .colab-df-container {\n",
       "      display:flex;\n",
       "      flex-wrap:wrap;\n",
       "      gap: 12px;\n",
       "    }\n",
       "\n",
       "    .colab-df-convert {\n",
       "      background-color: #E8F0FE;\n",
       "      border: none;\n",
       "      border-radius: 50%;\n",
       "      cursor: pointer;\n",
       "      display: none;\n",
       "      fill: #1967D2;\n",
       "      height: 32px;\n",
       "      padding: 0 0 0 0;\n",
       "      width: 32px;\n",
       "    }\n",
       "\n",
       "    .colab-df-convert:hover {\n",
       "      background-color: #E2EBFA;\n",
       "      box-shadow: 0px 1px 2px rgba(60, 64, 67, 0.3), 0px 1px 3px 1px rgba(60, 64, 67, 0.15);\n",
       "      fill: #174EA6;\n",
       "    }\n",
       "\n",
       "    [theme=dark] .colab-df-convert {\n",
       "      background-color: #3B4455;\n",
       "      fill: #D2E3FC;\n",
       "    }\n",
       "\n",
       "    [theme=dark] .colab-df-convert:hover {\n",
       "      background-color: #434B5C;\n",
       "      box-shadow: 0px 1px 3px 1px rgba(0, 0, 0, 0.15);\n",
       "      filter: drop-shadow(0px 1px 2px rgba(0, 0, 0, 0.3));\n",
       "      fill: #FFFFFF;\n",
       "    }\n",
       "  </style>\n",
       "\n",
       "      <script>\n",
       "        const buttonEl =\n",
       "          document.querySelector('#df-8e640da1-cb26-4667-9a27-38440ae897f4 button.colab-df-convert');\n",
       "        buttonEl.style.display =\n",
       "          google.colab.kernel.accessAllowed ? 'block' : 'none';\n",
       "\n",
       "        async function convertToInteractive(key) {\n",
       "          const element = document.querySelector('#df-8e640da1-cb26-4667-9a27-38440ae897f4');\n",
       "          const dataTable =\n",
       "            await google.colab.kernel.invokeFunction('convertToInteractive',\n",
       "                                                     [key], {});\n",
       "          if (!dataTable) return;\n",
       "\n",
       "          const docLinkHtml = 'Like what you see? Visit the ' +\n",
       "            '<a target=\"_blank\" href=https://colab.research.google.com/notebooks/data_table.ipynb>data table notebook</a>'\n",
       "            + ' to learn more about interactive tables.';\n",
       "          element.innerHTML = '';\n",
       "          dataTable['output_type'] = 'display_data';\n",
       "          await google.colab.output.renderOutput(dataTable, element);\n",
       "          const docLink = document.createElement('div');\n",
       "          docLink.innerHTML = docLinkHtml;\n",
       "          element.appendChild(docLink);\n",
       "        }\n",
       "      </script>\n",
       "    </div>\n",
       "  </div>\n",
       "  "
      ],
      "text/plain": [
       "                        Timestamp   Farmer's Name  \\\n",
       "0  2023/03/04 6:02:31 PM GMT+5:30  Wimalasiri W.P   \n",
       "1  2023/03/04 6:03:40 PM GMT+5:30         Hansika   \n",
       "2  2023/03/04 6:05:29 PM GMT+5:30        Mr.Silva   \n",
       "3  2023/03/04 6:11:44 PM GMT+5:30     J.Somasiri    \n",
       "4  2023/03/04 6:13:15 PM GMT+5:30     J.Somasiri    \n",
       "\n",
       "  Which month has the highest yield? What is the location of your hives?   \\\n",
       "0                             August                         Uva Province   \n",
       "1                            January               North Central Province   \n",
       "2                           February                     Western Province   \n",
       "3                             August                         Uva Province   \n",
       "4                            January                         Uva Province   \n",
       "\n",
       "  How many hives do you have?  \\\n",
       "0                      51-100   \n",
       "1                     101-500   \n",
       "2                     101-500   \n",
       "3                     101-500   \n",
       "4                     101-500   \n",
       "\n",
       "  What kind of mostly used flowers or crops are your bees pollinating?  \\\n",
       "0                                         Vegetables                     \n",
       "1                                         Sunflowers                     \n",
       "2                                         Sunflowers                     \n",
       "3                                        Fruit trees                     \n",
       "4                                        Fruit trees                     \n",
       "\n",
       "  How often do you harvest honey?  \\\n",
       "0                     Once a Year   \n",
       "1                    Twice a Year   \n",
       "2                    Twice a Year   \n",
       "3                     Once a Year   \n",
       "4                     Once a Year   \n",
       "\n",
       "  What is the average yield of honey per hive? (Pounds of honey per year)  \\\n",
       "0                                              21-60                        \n",
       "1                                              21-60                        \n",
       "2                                             61-100                        \n",
       "3                                              21-60                        \n",
       "4                                              21-60                        \n",
       "\n",
       "  Have you noticed any unusual behaviour or symptoms in your bees recently?  \\\n",
       "0                                                 No                          \n",
       "1                                                Yes                          \n",
       "2                                                 No                          \n",
       "3                                                Yes                          \n",
       "4                                                Yes                          \n",
       "\n",
       "  Have you observed any dead bees around the hives?  \\\n",
       "0                                                No   \n",
       "1                                               Yes   \n",
       "2                                                No   \n",
       "3                                               Yes   \n",
       "4                                               Yes   \n",
       "\n",
       "  How often do you inspect your hives for signs of disease or pests?  \\\n",
       "0                                      Every 2 Weeks                   \n",
       "1                                      Every 2 Weeks                   \n",
       "2                                      Every 2 Weeks                   \n",
       "3                                      Every 2 Weeks                   \n",
       "4                                      Every 2 Weeks                   \n",
       "\n",
       "  Have you noticed any changes in the size or activity of your bee colonies?  \\\n",
       "0                                                Yes                           \n",
       "1                                                Yes                           \n",
       "2                                                 No                           \n",
       "3                                                Yes                           \n",
       "4                                                Yes                           \n",
       "\n",
       "  What temperature range is optimal for your bee colonies ? (Fahrenheit)  \n",
       "0                                             32-100                      \n",
       "1                                             32-100                      \n",
       "2                                            101-150                      \n",
       "3                                              160 +                      \n",
       "4                                              160 +                      "
      ]
     },
     "execution_count": 3,
     "metadata": {},
     "output_type": "execute_result"
    }
   ],
   "source": [
    "beeDataframe.head(5)"
   ]
  },
  {
   "cell_type": "markdown",
   "metadata": {
    "id": "s-Bl5tCrnT4C"
   },
   "source": [
    "# **Preprocess the dataset**"
   ]
  },
  {
   "cell_type": "markdown",
   "metadata": {
    "id": "JYLOE8SOYZTz"
   },
   "source": [
    "First of all we need to remove Columns That Contain a Single Value (Unique value columns).\n"
   ]
  },
  {
   "cell_type": "code",
   "execution_count": 4,
   "metadata": {
    "colab": {
     "base_uri": "https://localhost:8080/"
    },
    "id": "LsBeYkV8Yikx",
    "outputId": "362ee8e1-4058-46da-fb00-8028597edfed"
   },
   "outputs": [
    {
     "name": "stdout",
     "output_type": "stream",
     "text": [
      "Timestamp                                                                     305\n",
      "Farmer's Name                                                                 299\n",
      "Which month has the highest yield?                                             12\n",
      "What is the location of your hives?                                             9\n",
      "How many hives do you have?                                                     5\n",
      "What kind of mostly used flowers or crops are your bees pollinating?            8\n",
      "How often do you harvest honey?                                                 7\n",
      "What is the average yield of honey per hive? (Pounds of honey per year)         4\n",
      "Have you noticed any unusual behaviour or symptoms in your bees recently?       2\n",
      "Have you observed any dead bees around the hives?                               2\n",
      "How often do you inspect your hives for signs of disease or pests?              3\n",
      "Have you noticed any changes in the size or activity of your bee colonies?      2\n",
      "What temperature range is optimal for your bee colonies ? (Fahrenheit)          4\n",
      "dtype: int64\n"
     ]
    }
   ],
   "source": [
    "# summarize the number of unique values in each column\n",
    "print(beeDataframe.nunique())"
   ]
  },
  {
   "cell_type": "markdown",
   "metadata": {
    "id": "_5cZYTdaai-A"
   },
   "source": [
    "We can remove the Timestamp and Farmer's name"
   ]
  },
  {
   "cell_type": "code",
   "execution_count": 5,
   "metadata": {
    "id": "HZqLzEPpVsaN"
   },
   "outputs": [],
   "source": [
    "beeDataframe = beeDataframe.drop(columns=['Timestamp','Farmer\\'s Name'], axis=1)"
   ]
  },
  {
   "cell_type": "code",
   "execution_count": null,
   "metadata": {
    "colab": {
     "base_uri": "https://localhost:8080/",
     "height": 583
    },
    "id": "U2VEPc2vVsM6",
    "outputId": "3f6e6f4b-fabf-4f6b-c4e3-7a270b6b9832"
   },
   "outputs": [
    {
     "data": {
      "text/html": [
       "\n",
       "  <div id=\"df-4be767c5-3a2d-4e12-946f-3ea18c31bd58\">\n",
       "    <div class=\"colab-df-container\">\n",
       "      <div>\n",
       "<style scoped>\n",
       "    .dataframe tbody tr th:only-of-type {\n",
       "        vertical-align: middle;\n",
       "    }\n",
       "\n",
       "    .dataframe tbody tr th {\n",
       "        vertical-align: top;\n",
       "    }\n",
       "\n",
       "    .dataframe thead th {\n",
       "        text-align: right;\n",
       "    }\n",
       "</style>\n",
       "<table border=\"1\" class=\"dataframe\">\n",
       "  <thead>\n",
       "    <tr style=\"text-align: right;\">\n",
       "      <th></th>\n",
       "      <th>Which month has the highest yield?</th>\n",
       "      <th>What is the location of your hives?</th>\n",
       "      <th>How many hives do you have?</th>\n",
       "      <th>What kind of mostly used flowers or crops are your bees pollinating?</th>\n",
       "      <th>How often do you harvest honey?</th>\n",
       "      <th>What is the average yield of honey per hive? (Pounds of honey per year)</th>\n",
       "      <th>Have you noticed any unusual behaviour or symptoms in your bees recently?</th>\n",
       "      <th>Have you observed any dead bees around the hives?</th>\n",
       "      <th>How often do you inspect your hives for signs of disease or pests?</th>\n",
       "      <th>Have you noticed any changes in the size or activity of your bee colonies?</th>\n",
       "      <th>What temperature range is optimal for your bee colonies ? (Fahrenheit)</th>\n",
       "    </tr>\n",
       "  </thead>\n",
       "  <tbody>\n",
       "    <tr>\n",
       "      <th>0</th>\n",
       "      <td>NaN</td>\n",
       "      <td>Uva Province</td>\n",
       "      <td>51-100</td>\n",
       "      <td>Vegetables</td>\n",
       "      <td>Once a Year</td>\n",
       "      <td>21-60</td>\n",
       "      <td>No</td>\n",
       "      <td>No</td>\n",
       "      <td>Every 2 Weeks</td>\n",
       "      <td>Yes</td>\n",
       "      <td>32-100</td>\n",
       "    </tr>\n",
       "    <tr>\n",
       "      <th>1</th>\n",
       "      <td>NaN</td>\n",
       "      <td>North Central Province</td>\n",
       "      <td>101-500</td>\n",
       "      <td>Sunflowers</td>\n",
       "      <td>Twice a Year</td>\n",
       "      <td>21-60</td>\n",
       "      <td>Yes</td>\n",
       "      <td>Yes</td>\n",
       "      <td>Every 2 Weeks</td>\n",
       "      <td>Yes</td>\n",
       "      <td>32-100</td>\n",
       "    </tr>\n",
       "    <tr>\n",
       "      <th>2</th>\n",
       "      <td>NaN</td>\n",
       "      <td>Western Province</td>\n",
       "      <td>101-500</td>\n",
       "      <td>Sunflowers</td>\n",
       "      <td>Twice a Year</td>\n",
       "      <td>61-100</td>\n",
       "      <td>No</td>\n",
       "      <td>No</td>\n",
       "      <td>Every 2 Weeks</td>\n",
       "      <td>No</td>\n",
       "      <td>101-150</td>\n",
       "    </tr>\n",
       "    <tr>\n",
       "      <th>3</th>\n",
       "      <td>NaN</td>\n",
       "      <td>Uva Province</td>\n",
       "      <td>101-500</td>\n",
       "      <td>Fruit trees</td>\n",
       "      <td>Once a Year</td>\n",
       "      <td>21-60</td>\n",
       "      <td>Yes</td>\n",
       "      <td>Yes</td>\n",
       "      <td>Every 2 Weeks</td>\n",
       "      <td>Yes</td>\n",
       "      <td>160 +</td>\n",
       "    </tr>\n",
       "    <tr>\n",
       "      <th>4</th>\n",
       "      <td>NaN</td>\n",
       "      <td>Uva Province</td>\n",
       "      <td>101-500</td>\n",
       "      <td>Fruit trees</td>\n",
       "      <td>Once a Year</td>\n",
       "      <td>21-60</td>\n",
       "      <td>Yes</td>\n",
       "      <td>Yes</td>\n",
       "      <td>Every 2 Weeks</td>\n",
       "      <td>Yes</td>\n",
       "      <td>160 +</td>\n",
       "    </tr>\n",
       "  </tbody>\n",
       "</table>\n",
       "</div>\n",
       "      <button class=\"colab-df-convert\" onclick=\"convertToInteractive('df-4be767c5-3a2d-4e12-946f-3ea18c31bd58')\"\n",
       "              title=\"Convert this dataframe to an interactive table.\"\n",
       "              style=\"display:none;\">\n",
       "        \n",
       "  <svg xmlns=\"http://www.w3.org/2000/svg\" height=\"24px\"viewBox=\"0 0 24 24\"\n",
       "       width=\"24px\">\n",
       "    <path d=\"M0 0h24v24H0V0z\" fill=\"none\"/>\n",
       "    <path d=\"M18.56 5.44l.94 2.06.94-2.06 2.06-.94-2.06-.94-.94-2.06-.94 2.06-2.06.94zm-11 1L8.5 8.5l.94-2.06 2.06-.94-2.06-.94L8.5 2.5l-.94 2.06-2.06.94zm10 10l.94 2.06.94-2.06 2.06-.94-2.06-.94-.94-2.06-.94 2.06-2.06.94z\"/><path d=\"M17.41 7.96l-1.37-1.37c-.4-.4-.92-.59-1.43-.59-.52 0-1.04.2-1.43.59L10.3 9.45l-7.72 7.72c-.78.78-.78 2.05 0 2.83L4 21.41c.39.39.9.59 1.41.59.51 0 1.02-.2 1.41-.59l7.78-7.78 2.81-2.81c.8-.78.8-2.07 0-2.86zM5.41 20L4 18.59l7.72-7.72 1.47 1.35L5.41 20z\"/>\n",
       "  </svg>\n",
       "      </button>\n",
       "      \n",
       "  <style>\n",
       "    .colab-df-container {\n",
       "      display:flex;\n",
       "      flex-wrap:wrap;\n",
       "      gap: 12px;\n",
       "    }\n",
       "\n",
       "    .colab-df-convert {\n",
       "      background-color: #E8F0FE;\n",
       "      border: none;\n",
       "      border-radius: 50%;\n",
       "      cursor: pointer;\n",
       "      display: none;\n",
       "      fill: #1967D2;\n",
       "      height: 32px;\n",
       "      padding: 0 0 0 0;\n",
       "      width: 32px;\n",
       "    }\n",
       "\n",
       "    .colab-df-convert:hover {\n",
       "      background-color: #E2EBFA;\n",
       "      box-shadow: 0px 1px 2px rgba(60, 64, 67, 0.3), 0px 1px 3px 1px rgba(60, 64, 67, 0.15);\n",
       "      fill: #174EA6;\n",
       "    }\n",
       "\n",
       "    [theme=dark] .colab-df-convert {\n",
       "      background-color: #3B4455;\n",
       "      fill: #D2E3FC;\n",
       "    }\n",
       "\n",
       "    [theme=dark] .colab-df-convert:hover {\n",
       "      background-color: #434B5C;\n",
       "      box-shadow: 0px 1px 3px 1px rgba(0, 0, 0, 0.15);\n",
       "      filter: drop-shadow(0px 1px 2px rgba(0, 0, 0, 0.3));\n",
       "      fill: #FFFFFF;\n",
       "    }\n",
       "  </style>\n",
       "\n",
       "      <script>\n",
       "        const buttonEl =\n",
       "          document.querySelector('#df-4be767c5-3a2d-4e12-946f-3ea18c31bd58 button.colab-df-convert');\n",
       "        buttonEl.style.display =\n",
       "          google.colab.kernel.accessAllowed ? 'block' : 'none';\n",
       "\n",
       "        async function convertToInteractive(key) {\n",
       "          const element = document.querySelector('#df-4be767c5-3a2d-4e12-946f-3ea18c31bd58');\n",
       "          const dataTable =\n",
       "            await google.colab.kernel.invokeFunction('convertToInteractive',\n",
       "                                                     [key], {});\n",
       "          if (!dataTable) return;\n",
       "\n",
       "          const docLinkHtml = 'Like what you see? Visit the ' +\n",
       "            '<a target=\"_blank\" href=https://colab.research.google.com/notebooks/data_table.ipynb>data table notebook</a>'\n",
       "            + ' to learn more about interactive tables.';\n",
       "          element.innerHTML = '';\n",
       "          dataTable['output_type'] = 'display_data';\n",
       "          await google.colab.output.renderOutput(dataTable, element);\n",
       "          const docLink = document.createElement('div');\n",
       "          docLink.innerHTML = docLinkHtml;\n",
       "          element.appendChild(docLink);\n",
       "        }\n",
       "      </script>\n",
       "    </div>\n",
       "  </div>\n",
       "  "
      ],
      "text/plain": [
       "  Which month has the highest yield? What is the location of your hives?   \\\n",
       "0                                NaN                         Uva Province   \n",
       "1                                NaN               North Central Province   \n",
       "2                                NaN                     Western Province   \n",
       "3                                NaN                         Uva Province   \n",
       "4                                NaN                         Uva Province   \n",
       "\n",
       "  How many hives do you have?  \\\n",
       "0                      51-100   \n",
       "1                     101-500   \n",
       "2                     101-500   \n",
       "3                     101-500   \n",
       "4                     101-500   \n",
       "\n",
       "  What kind of mostly used flowers or crops are your bees pollinating?  \\\n",
       "0                                         Vegetables                     \n",
       "1                                         Sunflowers                     \n",
       "2                                         Sunflowers                     \n",
       "3                                        Fruit trees                     \n",
       "4                                        Fruit trees                     \n",
       "\n",
       "  How often do you harvest honey?  \\\n",
       "0                     Once a Year   \n",
       "1                    Twice a Year   \n",
       "2                    Twice a Year   \n",
       "3                     Once a Year   \n",
       "4                     Once a Year   \n",
       "\n",
       "  What is the average yield of honey per hive? (Pounds of honey per year)  \\\n",
       "0                                              21-60                        \n",
       "1                                              21-60                        \n",
       "2                                             61-100                        \n",
       "3                                              21-60                        \n",
       "4                                              21-60                        \n",
       "\n",
       "  Have you noticed any unusual behaviour or symptoms in your bees recently?  \\\n",
       "0                                                 No                          \n",
       "1                                                Yes                          \n",
       "2                                                 No                          \n",
       "3                                                Yes                          \n",
       "4                                                Yes                          \n",
       "\n",
       "  Have you observed any dead bees around the hives?  \\\n",
       "0                                                No   \n",
       "1                                               Yes   \n",
       "2                                                No   \n",
       "3                                               Yes   \n",
       "4                                               Yes   \n",
       "\n",
       "  How often do you inspect your hives for signs of disease or pests?  \\\n",
       "0                                      Every 2 Weeks                   \n",
       "1                                      Every 2 Weeks                   \n",
       "2                                      Every 2 Weeks                   \n",
       "3                                      Every 2 Weeks                   \n",
       "4                                      Every 2 Weeks                   \n",
       "\n",
       "  Have you noticed any changes in the size or activity of your bee colonies?  \\\n",
       "0                                                Yes                           \n",
       "1                                                Yes                           \n",
       "2                                                 No                           \n",
       "3                                                Yes                           \n",
       "4                                                Yes                           \n",
       "\n",
       "  What temperature range is optimal for your bee colonies ? (Fahrenheit)  \n",
       "0                                             32-100                      \n",
       "1                                             32-100                      \n",
       "2                                            101-150                      \n",
       "3                                              160 +                      \n",
       "4                                              160 +                      "
      ]
     },
     "execution_count": 4,
     "metadata": {},
     "output_type": "execute_result"
    }
   ],
   "source": [
    "beeDataframe.head()"
   ]
  },
  {
   "cell_type": "markdown",
   "metadata": {
    "id": "rSqS3LDlojKa"
   },
   "source": [
    "Creating much more simple feature names"
   ]
  },
  {
   "cell_type": "code",
   "execution_count": 6,
   "metadata": {
    "id": "Hs9WxQR2oit2"
   },
   "outputs": [],
   "source": [
    "beeDataframe = beeDataframe.rename(columns={\n",
    "    'Which month has the highest yield?': 'Highest_Yeild_Month',\n",
    "    'What is the location of your hives? ': 'Location',\n",
    "    'How many hives do you have?': 'NumHives',\n",
    "    'What kind of mostly used flowers or crops are your bees pollinating?': 'Flowers',\n",
    "    'How often do you harvest honey?': 'HarvestFreq',\n",
    "    'What is the average yield of honey per hive? (Pounds of honey per year)': 'AvgYield',\n",
    "    'Have you noticed any unusual behaviour or symptoms in your bees recently?': 'Symptoms',\n",
    "    'Have you observed any dead bees around the hives?': 'DeadBees',\n",
    "    'How often do you inspect your hives for signs of disease or pests?': 'InspectFreq',\n",
    "    'Have you noticed any changes in the size or activity of your bee colonies?': 'ColonyChanges',\n",
    "    'What temperature range is optimal for your bee colonies ? (Fahrenheit)': 'TempRange'\n",
    "})"
   ]
  },
  {
   "cell_type": "code",
   "execution_count": null,
   "metadata": {
    "colab": {
     "base_uri": "https://localhost:8080/",
     "height": 374
    },
    "id": "dkEOzaqUosBh",
    "outputId": "233dcab4-d5c5-4ced-93d0-a1fd2bf8cd96"
   },
   "outputs": [
    {
     "data": {
      "text/html": [
       "\n",
       "  <div id=\"df-a6a799d3-98e6-4eb2-85bf-f139e03bc4c2\">\n",
       "    <div class=\"colab-df-container\">\n",
       "      <div>\n",
       "<style scoped>\n",
       "    .dataframe tbody tr th:only-of-type {\n",
       "        vertical-align: middle;\n",
       "    }\n",
       "\n",
       "    .dataframe tbody tr th {\n",
       "        vertical-align: top;\n",
       "    }\n",
       "\n",
       "    .dataframe thead th {\n",
       "        text-align: right;\n",
       "    }\n",
       "</style>\n",
       "<table border=\"1\" class=\"dataframe\">\n",
       "  <thead>\n",
       "    <tr style=\"text-align: right;\">\n",
       "      <th></th>\n",
       "      <th>Highest_Yeild_Month</th>\n",
       "      <th>Location</th>\n",
       "      <th>NumHives</th>\n",
       "      <th>Flowers</th>\n",
       "      <th>HarvestFreq</th>\n",
       "      <th>AvgYield</th>\n",
       "      <th>Symptoms</th>\n",
       "      <th>DeadBees</th>\n",
       "      <th>InspectFreq</th>\n",
       "      <th>ColonyChanges</th>\n",
       "      <th>TempRange</th>\n",
       "    </tr>\n",
       "  </thead>\n",
       "  <tbody>\n",
       "    <tr>\n",
       "      <th>0</th>\n",
       "      <td>February</td>\n",
       "      <td>Uva Province</td>\n",
       "      <td>51-100</td>\n",
       "      <td>Vegetables</td>\n",
       "      <td>Once a Year</td>\n",
       "      <td>21-60</td>\n",
       "      <td>No</td>\n",
       "      <td>No</td>\n",
       "      <td>Every 2 Weeks</td>\n",
       "      <td>Yes</td>\n",
       "      <td>32-100</td>\n",
       "    </tr>\n",
       "    <tr>\n",
       "      <th>1</th>\n",
       "      <td>May</td>\n",
       "      <td>North Central Province</td>\n",
       "      <td>101-500</td>\n",
       "      <td>Sunflowers</td>\n",
       "      <td>Twice a Year</td>\n",
       "      <td>21-60</td>\n",
       "      <td>Yes</td>\n",
       "      <td>Yes</td>\n",
       "      <td>Every 2 Weeks</td>\n",
       "      <td>Yes</td>\n",
       "      <td>32-100</td>\n",
       "    </tr>\n",
       "    <tr>\n",
       "      <th>2</th>\n",
       "      <td>April</td>\n",
       "      <td>Western Province</td>\n",
       "      <td>101-500</td>\n",
       "      <td>Sunflowers</td>\n",
       "      <td>Twice a Year</td>\n",
       "      <td>61-100</td>\n",
       "      <td>No</td>\n",
       "      <td>No</td>\n",
       "      <td>Every 2 Weeks</td>\n",
       "      <td>No</td>\n",
       "      <td>101-150</td>\n",
       "    </tr>\n",
       "    <tr>\n",
       "      <th>3</th>\n",
       "      <td>June</td>\n",
       "      <td>Uva Province</td>\n",
       "      <td>101-500</td>\n",
       "      <td>Fruit trees</td>\n",
       "      <td>Once a Year</td>\n",
       "      <td>21-60</td>\n",
       "      <td>Yes</td>\n",
       "      <td>Yes</td>\n",
       "      <td>Every 2 Weeks</td>\n",
       "      <td>Yes</td>\n",
       "      <td>160 +</td>\n",
       "    </tr>\n",
       "    <tr>\n",
       "      <th>4</th>\n",
       "      <td>May</td>\n",
       "      <td>Uva Province</td>\n",
       "      <td>101-500</td>\n",
       "      <td>Fruit trees</td>\n",
       "      <td>Once a Year</td>\n",
       "      <td>21-60</td>\n",
       "      <td>Yes</td>\n",
       "      <td>Yes</td>\n",
       "      <td>Every 2 Weeks</td>\n",
       "      <td>Yes</td>\n",
       "      <td>160 +</td>\n",
       "    </tr>\n",
       "  </tbody>\n",
       "</table>\n",
       "</div>\n",
       "      <button class=\"colab-df-convert\" onclick=\"convertToInteractive('df-a6a799d3-98e6-4eb2-85bf-f139e03bc4c2')\"\n",
       "              title=\"Convert this dataframe to an interactive table.\"\n",
       "              style=\"display:none;\">\n",
       "        \n",
       "  <svg xmlns=\"http://www.w3.org/2000/svg\" height=\"24px\"viewBox=\"0 0 24 24\"\n",
       "       width=\"24px\">\n",
       "    <path d=\"M0 0h24v24H0V0z\" fill=\"none\"/>\n",
       "    <path d=\"M18.56 5.44l.94 2.06.94-2.06 2.06-.94-2.06-.94-.94-2.06-.94 2.06-2.06.94zm-11 1L8.5 8.5l.94-2.06 2.06-.94-2.06-.94L8.5 2.5l-.94 2.06-2.06.94zm10 10l.94 2.06.94-2.06 2.06-.94-2.06-.94-.94-2.06-.94 2.06-2.06.94z\"/><path d=\"M17.41 7.96l-1.37-1.37c-.4-.4-.92-.59-1.43-.59-.52 0-1.04.2-1.43.59L10.3 9.45l-7.72 7.72c-.78.78-.78 2.05 0 2.83L4 21.41c.39.39.9.59 1.41.59.51 0 1.02-.2 1.41-.59l7.78-7.78 2.81-2.81c.8-.78.8-2.07 0-2.86zM5.41 20L4 18.59l7.72-7.72 1.47 1.35L5.41 20z\"/>\n",
       "  </svg>\n",
       "      </button>\n",
       "      \n",
       "  <style>\n",
       "    .colab-df-container {\n",
       "      display:flex;\n",
       "      flex-wrap:wrap;\n",
       "      gap: 12px;\n",
       "    }\n",
       "\n",
       "    .colab-df-convert {\n",
       "      background-color: #E8F0FE;\n",
       "      border: none;\n",
       "      border-radius: 50%;\n",
       "      cursor: pointer;\n",
       "      display: none;\n",
       "      fill: #1967D2;\n",
       "      height: 32px;\n",
       "      padding: 0 0 0 0;\n",
       "      width: 32px;\n",
       "    }\n",
       "\n",
       "    .colab-df-convert:hover {\n",
       "      background-color: #E2EBFA;\n",
       "      box-shadow: 0px 1px 2px rgba(60, 64, 67, 0.3), 0px 1px 3px 1px rgba(60, 64, 67, 0.15);\n",
       "      fill: #174EA6;\n",
       "    }\n",
       "\n",
       "    [theme=dark] .colab-df-convert {\n",
       "      background-color: #3B4455;\n",
       "      fill: #D2E3FC;\n",
       "    }\n",
       "\n",
       "    [theme=dark] .colab-df-convert:hover {\n",
       "      background-color: #434B5C;\n",
       "      box-shadow: 0px 1px 3px 1px rgba(0, 0, 0, 0.15);\n",
       "      filter: drop-shadow(0px 1px 2px rgba(0, 0, 0, 0.3));\n",
       "      fill: #FFFFFF;\n",
       "    }\n",
       "  </style>\n",
       "\n",
       "      <script>\n",
       "        const buttonEl =\n",
       "          document.querySelector('#df-a6a799d3-98e6-4eb2-85bf-f139e03bc4c2 button.colab-df-convert');\n",
       "        buttonEl.style.display =\n",
       "          google.colab.kernel.accessAllowed ? 'block' : 'none';\n",
       "\n",
       "        async function convertToInteractive(key) {\n",
       "          const element = document.querySelector('#df-a6a799d3-98e6-4eb2-85bf-f139e03bc4c2');\n",
       "          const dataTable =\n",
       "            await google.colab.kernel.invokeFunction('convertToInteractive',\n",
       "                                                     [key], {});\n",
       "          if (!dataTable) return;\n",
       "\n",
       "          const docLinkHtml = 'Like what you see? Visit the ' +\n",
       "            '<a target=\"_blank\" href=https://colab.research.google.com/notebooks/data_table.ipynb>data table notebook</a>'\n",
       "            + ' to learn more about interactive tables.';\n",
       "          element.innerHTML = '';\n",
       "          dataTable['output_type'] = 'display_data';\n",
       "          await google.colab.output.renderOutput(dataTable, element);\n",
       "          const docLink = document.createElement('div');\n",
       "          docLink.innerHTML = docLinkHtml;\n",
       "          element.appendChild(docLink);\n",
       "        }\n",
       "      </script>\n",
       "    </div>\n",
       "  </div>\n",
       "  "
      ],
      "text/plain": [
       "  Highest_Yeild_Month                Location NumHives      Flowers  \\\n",
       "0            February            Uva Province   51-100   Vegetables   \n",
       "1                 May  North Central Province  101-500   Sunflowers   \n",
       "2               April        Western Province  101-500   Sunflowers   \n",
       "3                June            Uva Province  101-500  Fruit trees   \n",
       "4                 May            Uva Province  101-500  Fruit trees   \n",
       "\n",
       "    HarvestFreq AvgYield Symptoms DeadBees    InspectFreq ColonyChanges  \\\n",
       "0   Once a Year    21-60       No       No  Every 2 Weeks           Yes   \n",
       "1  Twice a Year    21-60      Yes      Yes  Every 2 Weeks           Yes   \n",
       "2  Twice a Year   61-100       No       No  Every 2 Weeks            No   \n",
       "3   Once a Year    21-60      Yes      Yes  Every 2 Weeks           Yes   \n",
       "4   Once a Year    21-60      Yes      Yes  Every 2 Weeks           Yes   \n",
       "\n",
       "  TempRange  \n",
       "0    32-100  \n",
       "1    32-100  \n",
       "2   101-150  \n",
       "3     160 +  \n",
       "4     160 +  "
      ]
     },
     "execution_count": 79,
     "metadata": {},
     "output_type": "execute_result"
    }
   ],
   "source": [
    "beeDataframe.head()"
   ]
  },
  {
   "cell_type": "markdown",
   "metadata": {
    "id": "_Uuylv35rjg6"
   },
   "source": [
    "##**Check Null values**"
   ]
  },
  {
   "cell_type": "code",
   "execution_count": null,
   "metadata": {
    "colab": {
     "base_uri": "https://localhost:8080/"
    },
    "id": "3QcEBqDY7QD8",
    "outputId": "3b9cd833-93a3-4e39-e2af-cc7d1e7daca0"
   },
   "outputs": [
    {
     "data": {
      "text/plain": [
       "False"
      ]
     },
     "execution_count": 15,
     "metadata": {},
     "output_type": "execute_result"
    }
   ],
   "source": [
    "beeDataframe.isnull().values.any()"
   ]
  },
  {
   "cell_type": "code",
   "execution_count": null,
   "metadata": {
    "id": "CQYtaF2hO0a8"
   },
   "outputs": [],
   "source": [
    "# No null values"
   ]
  },
  {
   "cell_type": "markdown",
   "metadata": {
    "id": "MvNPSR5SHg6-"
   },
   "source": [
    "## **Handling Ouitliers - Box Plots**"
   ]
  },
  {
   "cell_type": "markdown",
   "metadata": {
    "id": "OrFFx1cjkDEn"
   },
   "source": [
    "Outliers are observations in a dataset that are unusually large or small and do not fit with the rest of the data. They can occur due to measurement errors, data entry errors, or natural variations in the data. Identifying and handling outliers is an important step in data preprocessing and analysis, as they can have a significant impact on the results of statistical analyses."
   ]
  },
  {
   "cell_type": "markdown",
   "metadata": {
    "id": "-4FK6zzOkbxm"
   },
   "source": [
    "We can identify outliers using visualization techniques such as box plots and scatter plots to identify observations that fall outside the general pattern of the data."
   ]
  },
  {
   "cell_type": "code",
   "execution_count": null,
   "metadata": {
    "id": "l-2qa12RuuXb"
   },
   "outputs": [],
   "source": [
    "# As our dataframe only contains strings, we need to Create a new dataframe with value counts for each column\n",
    "value_counts_df = pd.DataFrame({col: beeDataframe[col].value_counts() for col in beeDataframe.columns})"
   ]
  },
  {
   "cell_type": "code",
   "execution_count": null,
   "metadata": {
    "colab": {
     "base_uri": "https://localhost:8080/",
     "height": 345
    },
    "id": "HymqnrcFGC_N",
    "outputId": "c48b23d2-6777-46d8-8db8-a35824d4663c"
   },
   "outputs": [
    {
     "data": {
      "image/png": "[encoded data removed]",
      "text/plain": [
       "<Figure size 2500x1000 with 1 Axes>"
      ]
     },
     "metadata": {},
     "output_type": "display_data"
    }
   ],
   "source": [
    "fig, ax = plt.subplots(figsize=(25, 10))\n",
    "sns.boxplot(data=value_counts_df, orient=\"h\", palette=\"Set2\",ax=ax );"
   ]
  },
  {
   "cell_type": "markdown",
   "metadata": {
    "id": "aNjn27qQLwWo"
   },
   "source": [
    "Here we can't identify outliers as it shows only a value count. This is just for reference. (We can check the outliers only from numerical columns)\n"
   ]
  },
  {
   "cell_type": "markdown",
   "metadata": {
    "id": "XC5c_7WAra1e"
   },
   "source": [
    "###  **Histograms of the features** "
   ]
  },
  {
   "cell_type": "markdown",
   "metadata": {
    "id": "AKNTr8pOlDma"
   },
   "source": [
    "A histogram is a graphical representation of the distribution of a dataset. It is an estimate of the probability distribution of a continuous variable. To construct a histogram, the first step is to \"bin\" the range of values—that is, divide the entire range of values into a series of intervals—and then count how many values fall into each interval. The bins are usually specified as consecutive, non-overlapping intervals of a variable. The bins (intervals) must be adjacent and are often (but not necessarily) of the same size.\n",
    "\n",
    "A histogram consists of tabular frequencies, shown as adjacent rectangles, erected over discrete intervals (bins), with an area equal to the frequency of the observations in the interval. The height of a rectangle is also equal to the frequency density of the interval, i.e., the frequency divided by the width of the interval. The total area of the histogram is equal to the number of data."
   ]
  },
  {
   "cell_type": "code",
   "execution_count": 7,
   "metadata": {
    "colab": {
     "base_uri": "https://localhost:8080/",
     "height": 328
    },
    "id": "0HkJeri9yzRD",
    "outputId": "acc7243c-ff69-416d-ce46-8f95b1737a7f"
   },
   "outputs": [
    {
     "data": {
      "text/plain": [
       "<Axes: >"
      ]
     },
     "execution_count": 7,
     "metadata": {},
     "output_type": "execute_result"
    },
    {
     "data": {
      "image/png": "[encoded data removed]",
      "text/plain": [
       "<Figure size 2000x500 with 1 Axes>"
      ]
     },
     "metadata": {},
     "output_type": "display_data"
    }
   ],
   "source": [
    "fig = plt.figure(figsize = (20,5))\n",
    "beeDataframe['Highest_Yeild_Month'].value_counts().plot.bar(rot=0)"
   ]
  },
  {
   "cell_type": "code",
   "execution_count": 8,
   "metadata": {
    "colab": {
     "base_uri": "https://localhost:8080/",
     "height": 328
    },
    "id": "W0N71VF4cBuY",
    "outputId": "227927cf-42fd-45ef-8349-371e47afd4d6"
   },
   "outputs": [
    {
     "data": {
      "text/plain": [
       "<Axes: >"
      ]
     },
     "execution_count": 8,
     "metadata": {},
     "output_type": "execute_result"
    },
    {
     "data": {
      "image/png": "[encoded data removed]",
      "text/plain": [
       "<Figure size 2000x500 with 1 Axes>"
      ]
     },
     "metadata": {},
     "output_type": "display_data"
    }
   ],
   "source": [
    "fig = plt.figure(figsize = (20,5))\n",
    "beeDataframe['Location'].value_counts().plot.bar(rot=0)"
   ]
  },
  {
   "cell_type": "code",
   "execution_count": 11,
   "metadata": {
    "colab": {
     "base_uri": "https://localhost:8080/"
    },
    "id": "d0-MlBYQ5_x_",
    "outputId": "8e782c8e-8f38-4a56-e2ca-4ee35b2d3928"
   },
   "outputs": [
    {
     "name": "stdout",
     "output_type": "stream",
     "text": [
      "Uva Province - 27.87%\n",
      "Western Province - 17.38%\n",
      "Southern Province - 11.80%\n",
      "North Western Province - 9.18%\n",
      "Central Province - 8.52%\n",
      "North Central Province - 6.56%\n",
      "Eastern Province - 6.56%\n",
      "Sabaragamuwa Province - 6.23%\n",
      "Northern Province - 5.90%\n"
     ]
    }
   ],
   "source": [
    "value_counts = beeDataframe['Location'].value_counts()\n",
    "total = len(beeDataframe)\n",
    "\n",
    "for location, count in value_counts.items():\n",
    "    percentage = (count / total) * 100\n",
    "    print(f\"{location} - {percentage:.2f}%\")"
   ]
  },
  {
   "cell_type": "code",
   "execution_count": 9,
   "metadata": {
    "colab": {
     "base_uri": "https://localhost:8080/",
     "height": 328
    },
    "id": "yLcuXsNRz0EA",
    "outputId": "b44a35ac-827c-40c9-e44a-79cc62e1f2ef"
   },
   "outputs": [
    {
     "data": {
      "text/plain": [
       "<Axes: >"
      ]
     },
     "execution_count": 9,
     "metadata": {},
     "output_type": "execute_result"
    },
    {
     "data": {
      "image/png": "[encoded data removed]",
      "text/plain": [
       "<Figure size 2000x500 with 1 Axes>"
      ]
     },
     "metadata": {},
     "output_type": "display_data"
    }
   ],
   "source": [
    "fig = plt.figure(figsize = (20,5))\n",
    "beeDataframe['Flowers'].value_counts().plot.bar(rot=0)"
   ]
  },
  {
   "cell_type": "code",
   "execution_count": 10,
   "metadata": {
    "colab": {
     "base_uri": "https://localhost:8080/",
     "height": 499
    },
    "id": "4SIJuiodOhiN",
    "outputId": "eacbd69c-8a0b-4c93-c634-82f7303ec178"
   },
   "outputs": [
    {
     "data": {
      "image/png": "[encoded data removed]",
      "text/plain": [
       "<Figure size 600x600 with 1 Axes>"
      ]
     },
     "metadata": {},
     "output_type": "display_data"
    }
   ],
   "source": [
    "# Also we can show this in pie chart\n",
    "beeDataframe['Flowers'].value_counts().plot(kind='pie', figsize=(6,6));"
   ]
  },
  {
   "cell_type": "markdown",
   "metadata": {
    "id": "YL3vvkH0qeom"
   },
   "source": [
    "##  **Data encoding** "
   ]
  },
  {
   "cell_type": "markdown",
   "metadata": {
    "id": "mqXZaMCpnD0C"
   },
   "source": [
    "Data encoding is the process of converting data from one format or type into another format or type. The primary reason for data encoding is to prepare data for analysis or to make it compatible with the algorithm. "
   ]
  },
  {
   "cell_type": "code",
   "execution_count": null,
   "metadata": {
    "colab": {
     "base_uri": "https://localhost:8080/",
     "height": 228
    },
    "id": "14YOLI5Eqizb",
    "outputId": "0550c89e-7296-4616-8db0-cfc2077f12f0"
   },
   "outputs": [
    {
     "data": {
      "text/html": [
       "\n",
       "  <div id=\"df-e0a13251-4303-4096-bd11-f1c51438142d\">\n",
       "    <div class=\"colab-df-container\">\n",
       "      <div>\n",
       "<style scoped>\n",
       "    .dataframe tbody tr th:only-of-type {\n",
       "        vertical-align: middle;\n",
       "    }\n",
       "\n",
       "    .dataframe tbody tr th {\n",
       "        vertical-align: top;\n",
       "    }\n",
       "\n",
       "    .dataframe thead th {\n",
       "        text-align: right;\n",
       "    }\n",
       "</style>\n",
       "<table border=\"1\" class=\"dataframe\">\n",
       "  <thead>\n",
       "    <tr style=\"text-align: right;\">\n",
       "      <th></th>\n",
       "      <th>Highest_Yeild_Month</th>\n",
       "      <th>Location</th>\n",
       "      <th>NumHives</th>\n",
       "      <th>Flowers</th>\n",
       "      <th>HarvestFreq</th>\n",
       "      <th>AvgYield</th>\n",
       "      <th>Symptoms</th>\n",
       "      <th>DeadBees</th>\n",
       "      <th>InspectFreq</th>\n",
       "      <th>ColonyChanges</th>\n",
       "      <th>TempRange</th>\n",
       "    </tr>\n",
       "  </thead>\n",
       "  <tbody>\n",
       "    <tr>\n",
       "      <th>0</th>\n",
       "      <td>February</td>\n",
       "      <td>Uva Province</td>\n",
       "      <td>51-100</td>\n",
       "      <td>Vegetables</td>\n",
       "      <td>Once a Year</td>\n",
       "      <td>21-60</td>\n",
       "      <td>No</td>\n",
       "      <td>No</td>\n",
       "      <td>Every 2 Weeks</td>\n",
       "      <td>Yes</td>\n",
       "      <td>32-100</td>\n",
       "    </tr>\n",
       "    <tr>\n",
       "      <th>1</th>\n",
       "      <td>May</td>\n",
       "      <td>North Central Province</td>\n",
       "      <td>101-500</td>\n",
       "      <td>Sunflowers</td>\n",
       "      <td>Twice a Year</td>\n",
       "      <td>21-60</td>\n",
       "      <td>Yes</td>\n",
       "      <td>Yes</td>\n",
       "      <td>Every 2 Weeks</td>\n",
       "      <td>Yes</td>\n",
       "      <td>32-100</td>\n",
       "    </tr>\n",
       "  </tbody>\n",
       "</table>\n",
       "</div>\n",
       "      <button class=\"colab-df-convert\" onclick=\"convertToInteractive('df-e0a13251-4303-4096-bd11-f1c51438142d')\"\n",
       "              title=\"Convert this dataframe to an interactive table.\"\n",
       "              style=\"display:none;\">\n",
       "        \n",
       "  <svg xmlns=\"http://www.w3.org/2000/svg\" height=\"24px\"viewBox=\"0 0 24 24\"\n",
       "       width=\"24px\">\n",
       "    <path d=\"M0 0h24v24H0V0z\" fill=\"none\"/>\n",
       "    <path d=\"M18.56 5.44l.94 2.06.94-2.06 2.06-.94-2.06-.94-.94-2.06-.94 2.06-2.06.94zm-11 1L8.5 8.5l.94-2.06 2.06-.94-2.06-.94L8.5 2.5l-.94 2.06-2.06.94zm10 10l.94 2.06.94-2.06 2.06-.94-2.06-.94-.94-2.06-.94 2.06-2.06.94z\"/><path d=\"M17.41 7.96l-1.37-1.37c-.4-.4-.92-.59-1.43-.59-.52 0-1.04.2-1.43.59L10.3 9.45l-7.72 7.72c-.78.78-.78 2.05 0 2.83L4 21.41c.39.39.9.59 1.41.59.51 0 1.02-.2 1.41-.59l7.78-7.78 2.81-2.81c.8-.78.8-2.07 0-2.86zM5.41 20L4 18.59l7.72-7.72 1.47 1.35L5.41 20z\"/>\n",
       "  </svg>\n",
       "      </button>\n",
       "      \n",
       "  <style>\n",
       "    .colab-df-container {\n",
       "      display:flex;\n",
       "      flex-wrap:wrap;\n",
       "      gap: 12px;\n",
       "    }\n",
       "\n",
       "    .colab-df-convert {\n",
       "      background-color: #E8F0FE;\n",
       "      border: none;\n",
       "      border-radius: 50%;\n",
       "      cursor: pointer;\n",
       "      display: none;\n",
       "      fill: #1967D2;\n",
       "      height: 32px;\n",
       "      padding: 0 0 0 0;\n",
       "      width: 32px;\n",
       "    }\n",
       "\n",
       "    .colab-df-convert:hover {\n",
       "      background-color: #E2EBFA;\n",
       "      box-shadow: 0px 1px 2px rgba(60, 64, 67, 0.3), 0px 1px 3px 1px rgba(60, 64, 67, 0.15);\n",
       "      fill: #174EA6;\n",
       "    }\n",
       "\n",
       "    [theme=dark] .colab-df-convert {\n",
       "      background-color: #3B4455;\n",
       "      fill: #D2E3FC;\n",
       "    }\n",
       "\n",
       "    [theme=dark] .colab-df-convert:hover {\n",
       "      background-color: #434B5C;\n",
       "      box-shadow: 0px 1px 3px 1px rgba(0, 0, 0, 0.15);\n",
       "      filter: drop-shadow(0px 1px 2px rgba(0, 0, 0, 0.3));\n",
       "      fill: #FFFFFF;\n",
       "    }\n",
       "  </style>\n",
       "\n",
       "      <script>\n",
       "        const buttonEl =\n",
       "          document.querySelector('#df-e0a13251-4303-4096-bd11-f1c51438142d button.colab-df-convert');\n",
       "        buttonEl.style.display =\n",
       "          google.colab.kernel.accessAllowed ? 'block' : 'none';\n",
       "\n",
       "        async function convertToInteractive(key) {\n",
       "          const element = document.querySelector('#df-e0a13251-4303-4096-bd11-f1c51438142d');\n",
       "          const dataTable =\n",
       "            await google.colab.kernel.invokeFunction('convertToInteractive',\n",
       "                                                     [key], {});\n",
       "          if (!dataTable) return;\n",
       "\n",
       "          const docLinkHtml = 'Like what you see? Visit the ' +\n",
       "            '<a target=\"_blank\" href=https://colab.research.google.com/notebooks/data_table.ipynb>data table notebook</a>'\n",
       "            + ' to learn more about interactive tables.';\n",
       "          element.innerHTML = '';\n",
       "          dataTable['output_type'] = 'display_data';\n",
       "          await google.colab.output.renderOutput(dataTable, element);\n",
       "          const docLink = document.createElement('div');\n",
       "          docLink.innerHTML = docLinkHtml;\n",
       "          element.appendChild(docLink);\n",
       "        }\n",
       "      </script>\n",
       "    </div>\n",
       "  </div>\n",
       "  "
      ],
      "text/plain": [
       "  Highest_Yeild_Month                Location NumHives     Flowers  \\\n",
       "0            February            Uva Province   51-100  Vegetables   \n",
       "1                 May  North Central Province  101-500  Sunflowers   \n",
       "\n",
       "    HarvestFreq AvgYield Symptoms DeadBees    InspectFreq ColonyChanges  \\\n",
       "0   Once a Year    21-60       No       No  Every 2 Weeks           Yes   \n",
       "1  Twice a Year    21-60      Yes      Yes  Every 2 Weeks           Yes   \n",
       "\n",
       "  TempRange  \n",
       "0    32-100  \n",
       "1    32-100  "
      ]
     },
     "execution_count": 33,
     "metadata": {},
     "output_type": "execute_result"
    }
   ],
   "source": [
    "beeDataframe.head(2)"
   ]
  },
  {
   "cell_type": "code",
   "execution_count": null,
   "metadata": {
    "id": "_Gc539aL4Llk"
   },
   "outputs": [],
   "source": [
    "import pandas as pd\n",
    "from sklearn.preprocessing import LabelEncoder\n",
    "\n",
    "\n",
    "encoders = {}\n",
    "for col in beeDataframe.columns:\n",
    "    if beeDataframe[col].dtype == 'object': \n",
    "        encoders[col] = LabelEncoder()\n",
    "        beeDataframe[col] = encoders[col].fit_transform(beeDataframe[col])\n"
   ]
  },
  {
   "cell_type": "code",
   "execution_count": null,
   "metadata": {
    "colab": {
     "base_uri": "https://localhost:8080/",
     "height": 270
    },
    "id": "vxbk7bR1LSBv",
    "outputId": "dff55a97-be36-4a36-b44c-b322048167c2"
   },
   "outputs": [
    {
     "data": {
      "text/html": [
       "\n",
       "  <div id=\"df-6445763c-91ae-45ff-9e63-bda76fecdf73\">\n",
       "    <div class=\"colab-df-container\">\n",
       "      <div>\n",
       "<style scoped>\n",
       "    .dataframe tbody tr th:only-of-type {\n",
       "        vertical-align: middle;\n",
       "    }\n",
       "\n",
       "    .dataframe tbody tr th {\n",
       "        vertical-align: top;\n",
       "    }\n",
       "\n",
       "    .dataframe thead th {\n",
       "        text-align: right;\n",
       "    }\n",
       "</style>\n",
       "<table border=\"1\" class=\"dataframe\">\n",
       "  <thead>\n",
       "    <tr style=\"text-align: right;\">\n",
       "      <th></th>\n",
       "      <th>Highest_Yeild_Month</th>\n",
       "      <th>Location</th>\n",
       "      <th>NumHives</th>\n",
       "      <th>Flowers</th>\n",
       "      <th>HarvestFreq</th>\n",
       "      <th>AvgYield</th>\n",
       "      <th>Symptoms</th>\n",
       "      <th>DeadBees</th>\n",
       "      <th>InspectFreq</th>\n",
       "      <th>ColonyChanges</th>\n",
       "      <th>TempRange</th>\n",
       "    </tr>\n",
       "  </thead>\n",
       "  <tbody>\n",
       "    <tr>\n",
       "      <th>0</th>\n",
       "      <td>1</td>\n",
       "      <td>7</td>\n",
       "      <td>4</td>\n",
       "      <td>6</td>\n",
       "      <td>4</td>\n",
       "      <td>2</td>\n",
       "      <td>0</td>\n",
       "      <td>0</td>\n",
       "      <td>0</td>\n",
       "      <td>1</td>\n",
       "      <td>3</td>\n",
       "    </tr>\n",
       "    <tr>\n",
       "      <th>1</th>\n",
       "      <td>4</td>\n",
       "      <td>2</td>\n",
       "      <td>1</td>\n",
       "      <td>5</td>\n",
       "      <td>6</td>\n",
       "      <td>2</td>\n",
       "      <td>1</td>\n",
       "      <td>1</td>\n",
       "      <td>0</td>\n",
       "      <td>1</td>\n",
       "      <td>3</td>\n",
       "    </tr>\n",
       "    <tr>\n",
       "      <th>2</th>\n",
       "      <td>3</td>\n",
       "      <td>8</td>\n",
       "      <td>1</td>\n",
       "      <td>5</td>\n",
       "      <td>6</td>\n",
       "      <td>3</td>\n",
       "      <td>0</td>\n",
       "      <td>0</td>\n",
       "      <td>0</td>\n",
       "      <td>0</td>\n",
       "      <td>1</td>\n",
       "    </tr>\n",
       "    <tr>\n",
       "      <th>3</th>\n",
       "      <td>1</td>\n",
       "      <td>7</td>\n",
       "      <td>1</td>\n",
       "      <td>0</td>\n",
       "      <td>4</td>\n",
       "      <td>2</td>\n",
       "      <td>1</td>\n",
       "      <td>1</td>\n",
       "      <td>0</td>\n",
       "      <td>1</td>\n",
       "      <td>2</td>\n",
       "    </tr>\n",
       "    <tr>\n",
       "      <th>4</th>\n",
       "      <td>4</td>\n",
       "      <td>7</td>\n",
       "      <td>1</td>\n",
       "      <td>0</td>\n",
       "      <td>4</td>\n",
       "      <td>2</td>\n",
       "      <td>1</td>\n",
       "      <td>1</td>\n",
       "      <td>0</td>\n",
       "      <td>1</td>\n",
       "      <td>2</td>\n",
       "    </tr>\n",
       "  </tbody>\n",
       "</table>\n",
       "</div>\n",
       "      <button class=\"colab-df-convert\" onclick=\"convertToInteractive('df-6445763c-91ae-45ff-9e63-bda76fecdf73')\"\n",
       "              title=\"Convert this dataframe to an interactive table.\"\n",
       "              style=\"display:none;\">\n",
       "        \n",
       "  <svg xmlns=\"http://www.w3.org/2000/svg\" height=\"24px\"viewBox=\"0 0 24 24\"\n",
       "       width=\"24px\">\n",
       "    <path d=\"M0 0h24v24H0V0z\" fill=\"none\"/>\n",
       "    <path d=\"M18.56 5.44l.94 2.06.94-2.06 2.06-.94-2.06-.94-.94-2.06-.94 2.06-2.06.94zm-11 1L8.5 8.5l.94-2.06 2.06-.94-2.06-.94L8.5 2.5l-.94 2.06-2.06.94zm10 10l.94 2.06.94-2.06 2.06-.94-2.06-.94-.94-2.06-.94 2.06-2.06.94z\"/><path d=\"M17.41 7.96l-1.37-1.37c-.4-.4-.92-.59-1.43-.59-.52 0-1.04.2-1.43.59L10.3 9.45l-7.72 7.72c-.78.78-.78 2.05 0 2.83L4 21.41c.39.39.9.59 1.41.59.51 0 1.02-.2 1.41-.59l7.78-7.78 2.81-2.81c.8-.78.8-2.07 0-2.86zM5.41 20L4 18.59l7.72-7.72 1.47 1.35L5.41 20z\"/>\n",
       "  </svg>\n",
       "      </button>\n",
       "      \n",
       "  <style>\n",
       "    .colab-df-container {\n",
       "      display:flex;\n",
       "      flex-wrap:wrap;\n",
       "      gap: 12px;\n",
       "    }\n",
       "\n",
       "    .colab-df-convert {\n",
       "      background-color: #E8F0FE;\n",
       "      border: none;\n",
       "      border-radius: 50%;\n",
       "      cursor: pointer;\n",
       "      display: none;\n",
       "      fill: #1967D2;\n",
       "      height: 32px;\n",
       "      padding: 0 0 0 0;\n",
       "      width: 32px;\n",
       "    }\n",
       "\n",
       "    .colab-df-convert:hover {\n",
       "      background-color: #E2EBFA;\n",
       "      box-shadow: 0px 1px 2px rgba(60, 64, 67, 0.3), 0px 1px 3px 1px rgba(60, 64, 67, 0.15);\n",
       "      fill: #174EA6;\n",
       "    }\n",
       "\n",
       "    [theme=dark] .colab-df-convert {\n",
       "      background-color: #3B4455;\n",
       "      fill: #D2E3FC;\n",
       "    }\n",
       "\n",
       "    [theme=dark] .colab-df-convert:hover {\n",
       "      background-color: #434B5C;\n",
       "      box-shadow: 0px 1px 3px 1px rgba(0, 0, 0, 0.15);\n",
       "      filter: drop-shadow(0px 1px 2px rgba(0, 0, 0, 0.3));\n",
       "      fill: #FFFFFF;\n",
       "    }\n",
       "  </style>\n",
       "\n",
       "      <script>\n",
       "        const buttonEl =\n",
       "          document.querySelector('#df-6445763c-91ae-45ff-9e63-bda76fecdf73 button.colab-df-convert');\n",
       "        buttonEl.style.display =\n",
       "          google.colab.kernel.accessAllowed ? 'block' : 'none';\n",
       "\n",
       "        async function convertToInteractive(key) {\n",
       "          const element = document.querySelector('#df-6445763c-91ae-45ff-9e63-bda76fecdf73');\n",
       "          const dataTable =\n",
       "            await google.colab.kernel.invokeFunction('convertToInteractive',\n",
       "                                                     [key], {});\n",
       "          if (!dataTable) return;\n",
       "\n",
       "          const docLinkHtml = 'Like what you see? Visit the ' +\n",
       "            '<a target=\"_blank\" href=https://colab.research.google.com/notebooks/data_table.ipynb>data table notebook</a>'\n",
       "            + ' to learn more about interactive tables.';\n",
       "          element.innerHTML = '';\n",
       "          dataTable['output_type'] = 'display_data';\n",
       "          await google.colab.output.renderOutput(dataTable, element);\n",
       "          const docLink = document.createElement('div');\n",
       "          docLink.innerHTML = docLinkHtml;\n",
       "          element.appendChild(docLink);\n",
       "        }\n",
       "      </script>\n",
       "    </div>\n",
       "  </div>\n",
       "  "
      ],
      "text/plain": [
       "   Highest_Yeild_Month  Location  NumHives  Flowers  HarvestFreq  AvgYield  \\\n",
       "0                    1         7         4        6            4         2   \n",
       "1                    4         2         1        5            6         2   \n",
       "2                    3         8         1        5            6         3   \n",
       "3                    1         7         1        0            4         2   \n",
       "4                    4         7         1        0            4         2   \n",
       "\n",
       "   Symptoms  DeadBees  InspectFreq  ColonyChanges  TempRange  \n",
       "0         0         0            0              1          3  \n",
       "1         1         1            0              1          3  \n",
       "2         0         0            0              0          1  \n",
       "3         1         1            0              1          2  \n",
       "4         1         1            0              1          2  "
      ]
     },
     "execution_count": 8,
     "metadata": {},
     "output_type": "execute_result"
    }
   ],
   "source": [
    "beeDataframe.head()"
   ]
  },
  {
   "cell_type": "code",
   "execution_count": null,
   "metadata": {
    "id": "HnIbbPUp4W68"
   },
   "outputs": [],
   "source": [
    "# If we want to decode this"
   ]
  },
  {
   "cell_type": "code",
   "execution_count": null,
   "metadata": {
    "colab": {
     "base_uri": "https://localhost:8080/"
    },
    "id": "TDGvO7Tw4LXs",
    "outputId": "6a65edd9-db7f-4002-fb1a-b8e458a66ba1"
   },
   "outputs": [
    {
     "name": "stdout",
     "output_type": "stream",
     "text": [
      "['21-60']\n"
     ]
    }
   ],
   "source": [
    "decoded_values = encoders['AvgYield'].inverse_transform([2])\n",
    "print(decoded_values)"
   ]
  },
  {
   "cell_type": "markdown",
   "metadata": {
    "id": "lk00CdCZ1LO4"
   },
   "source": [
    "# **Training Models** "
   ]
  },
  {
   "cell_type": "code",
   "execution_count": null,
   "metadata": {
    "id": "TGxAsJpaj1vE"
   },
   "outputs": [],
   "source": [
    "from imblearn.over_sampling import SMOTE\n",
    "import pandas as pd\n",
    "\n",
    "# Separate the features and target variable\n",
    "X = beeDataframe.drop('AvgYield', axis=1)\n",
    "y = beeDataframe['AvgYield']\n",
    "\n",
    "# transform the dataset\n",
    "oversample = SMOTE()\n",
    "X, y = oversample.fit_resample(X, y)"
   ]
  },
  {
   "cell_type": "code",
   "execution_count": null,
   "metadata": {
    "id": "iYjqJ3557Gn3"
   },
   "outputs": [],
   "source": [
    "train_x,test_x,train_y,test_y=train_test_split(X,y,test_size=0.1,random_state=50)"
   ]
  },
  {
   "cell_type": "markdown",
   "metadata": {
    "id": "7aAggz4gD8PD"
   },
   "source": [
    "Here I do a test train split. \n",
    "\n",
    "Train test split is a model validation process that allows you to simulate how your model would perform with new data. \n",
    "\n"
   ]
  },
  {
   "cell_type": "markdown",
   "metadata": {
    "id": "xHZIsXjaEKLd"
   },
   "source": [
    "![image.png](data:image/png;base64,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)"
   ]
  },
  {
   "cell_type": "markdown",
   "metadata": {
    "id": "vPxT7veTEwm_"
   },
   "source": [
    "Here train_x and train_y used to to train our model. As unseen data we use test_x and the test_y will be the actual output. We predict the wind speed using this unseen test_x values. It will return the predicted wind speed. Then we can compare it with our test_y data.\n"
   ]
  },
  {
   "cell_type": "code",
   "execution_count": null,
   "metadata": {
    "colab": {
     "base_uri": "https://localhost:8080/",
     "height": 1000
    },
    "id": "CetDOO4sD7x5",
    "outputId": "290ead57-f5db-4400-9fae-2d6254e3e70b"
   },
   "outputs": [
    {
     "data": {
      "text/html": [
       "\n",
       "  <div id=\"df-1fe368a4-9ea4-405e-a931-27edffca5b50\">\n",
       "    <div class=\"colab-df-container\">\n",
       "      <div>\n",
       "<style scoped>\n",
       "    .dataframe tbody tr th:only-of-type {\n",
       "        vertical-align: middle;\n",
       "    }\n",
       "\n",
       "    .dataframe tbody tr th {\n",
       "        vertical-align: top;\n",
       "    }\n",
       "\n",
       "    .dataframe thead th {\n",
       "        text-align: right;\n",
       "    }\n",
       "</style>\n",
       "<table border=\"1\" class=\"dataframe\">\n",
       "  <thead>\n",
       "    <tr style=\"text-align: right;\">\n",
       "      <th></th>\n",
       "      <th>Highest_Yeild_Month</th>\n",
       "      <th>Location</th>\n",
       "      <th>NumHives</th>\n",
       "      <th>Flowers</th>\n",
       "      <th>HarvestFreq</th>\n",
       "      <th>Symptoms</th>\n",
       "      <th>DeadBees</th>\n",
       "      <th>InspectFreq</th>\n",
       "      <th>ColonyChanges</th>\n",
       "      <th>TempRange</th>\n",
       "    </tr>\n",
       "  </thead>\n",
       "  <tbody>\n",
       "    <tr>\n",
       "      <th>263</th>\n",
       "      <td>3</td>\n",
       "      <td>4</td>\n",
       "      <td>3</td>\n",
       "      <td>2</td>\n",
       "      <td>4</td>\n",
       "      <td>0</td>\n",
       "      <td>1</td>\n",
       "      <td>2</td>\n",
       "      <td>1</td>\n",
       "      <td>1</td>\n",
       "    </tr>\n",
       "    <tr>\n",
       "      <th>468</th>\n",
       "      <td>6</td>\n",
       "      <td>7</td>\n",
       "      <td>1</td>\n",
       "      <td>0</td>\n",
       "      <td>0</td>\n",
       "      <td>1</td>\n",
       "      <td>0</td>\n",
       "      <td>1</td>\n",
       "      <td>1</td>\n",
       "      <td>3</td>\n",
       "    </tr>\n",
       "    <tr>\n",
       "      <th>201</th>\n",
       "      <td>0</td>\n",
       "      <td>3</td>\n",
       "      <td>0</td>\n",
       "      <td>7</td>\n",
       "      <td>4</td>\n",
       "      <td>1</td>\n",
       "      <td>0</td>\n",
       "      <td>1</td>\n",
       "      <td>1</td>\n",
       "      <td>0</td>\n",
       "    </tr>\n",
       "    <tr>\n",
       "      <th>213</th>\n",
       "      <td>3</td>\n",
       "      <td>5</td>\n",
       "      <td>0</td>\n",
       "      <td>1</td>\n",
       "      <td>4</td>\n",
       "      <td>1</td>\n",
       "      <td>0</td>\n",
       "      <td>0</td>\n",
       "      <td>0</td>\n",
       "      <td>0</td>\n",
       "    </tr>\n",
       "    <tr>\n",
       "      <th>65</th>\n",
       "      <td>3</td>\n",
       "      <td>7</td>\n",
       "      <td>0</td>\n",
       "      <td>3</td>\n",
       "      <td>4</td>\n",
       "      <td>0</td>\n",
       "      <td>1</td>\n",
       "      <td>1</td>\n",
       "      <td>1</td>\n",
       "      <td>3</td>\n",
       "    </tr>\n",
       "    <tr>\n",
       "      <th>191</th>\n",
       "      <td>6</td>\n",
       "      <td>6</td>\n",
       "      <td>0</td>\n",
       "      <td>7</td>\n",
       "      <td>4</td>\n",
       "      <td>1</td>\n",
       "      <td>1</td>\n",
       "      <td>0</td>\n",
       "      <td>1</td>\n",
       "      <td>3</td>\n",
       "    </tr>\n",
       "    <tr>\n",
       "      <th>491</th>\n",
       "      <td>0</td>\n",
       "      <td>3</td>\n",
       "      <td>1</td>\n",
       "      <td>6</td>\n",
       "      <td>0</td>\n",
       "      <td>0</td>\n",
       "      <td>0</td>\n",
       "      <td>1</td>\n",
       "      <td>0</td>\n",
       "      <td>1</td>\n",
       "    </tr>\n",
       "    <tr>\n",
       "      <th>126</th>\n",
       "      <td>3</td>\n",
       "      <td>1</td>\n",
       "      <td>4</td>\n",
       "      <td>0</td>\n",
       "      <td>6</td>\n",
       "      <td>1</td>\n",
       "      <td>0</td>\n",
       "      <td>1</td>\n",
       "      <td>1</td>\n",
       "      <td>3</td>\n",
       "    </tr>\n",
       "    <tr>\n",
       "      <th>445</th>\n",
       "      <td>2</td>\n",
       "      <td>1</td>\n",
       "      <td>0</td>\n",
       "      <td>4</td>\n",
       "      <td>3</td>\n",
       "      <td>0</td>\n",
       "      <td>1</td>\n",
       "      <td>0</td>\n",
       "      <td>0</td>\n",
       "      <td>1</td>\n",
       "    </tr>\n",
       "    <tr>\n",
       "      <th>23</th>\n",
       "      <td>6</td>\n",
       "      <td>6</td>\n",
       "      <td>1</td>\n",
       "      <td>0</td>\n",
       "      <td>6</td>\n",
       "      <td>0</td>\n",
       "      <td>1</td>\n",
       "      <td>0</td>\n",
       "      <td>1</td>\n",
       "      <td>3</td>\n",
       "    </tr>\n",
       "    <tr>\n",
       "      <th>98</th>\n",
       "      <td>0</td>\n",
       "      <td>7</td>\n",
       "      <td>0</td>\n",
       "      <td>7</td>\n",
       "      <td>4</td>\n",
       "      <td>0</td>\n",
       "      <td>0</td>\n",
       "      <td>1</td>\n",
       "      <td>1</td>\n",
       "      <td>3</td>\n",
       "    </tr>\n",
       "    <tr>\n",
       "      <th>170</th>\n",
       "      <td>10</td>\n",
       "      <td>7</td>\n",
       "      <td>4</td>\n",
       "      <td>6</td>\n",
       "      <td>6</td>\n",
       "      <td>1</td>\n",
       "      <td>1</td>\n",
       "      <td>0</td>\n",
       "      <td>1</td>\n",
       "      <td>3</td>\n",
       "    </tr>\n",
       "    <tr>\n",
       "      <th>364</th>\n",
       "      <td>9</td>\n",
       "      <td>6</td>\n",
       "      <td>2</td>\n",
       "      <td>2</td>\n",
       "      <td>3</td>\n",
       "      <td>0</td>\n",
       "      <td>0</td>\n",
       "      <td>2</td>\n",
       "      <td>0</td>\n",
       "      <td>1</td>\n",
       "    </tr>\n",
       "    <tr>\n",
       "      <th>208</th>\n",
       "      <td>8</td>\n",
       "      <td>0</td>\n",
       "      <td>4</td>\n",
       "      <td>7</td>\n",
       "      <td>4</td>\n",
       "      <td>0</td>\n",
       "      <td>0</td>\n",
       "      <td>0</td>\n",
       "      <td>1</td>\n",
       "      <td>0</td>\n",
       "    </tr>\n",
       "    <tr>\n",
       "      <th>145</th>\n",
       "      <td>8</td>\n",
       "      <td>8</td>\n",
       "      <td>2</td>\n",
       "      <td>2</td>\n",
       "      <td>1</td>\n",
       "      <td>1</td>\n",
       "      <td>1</td>\n",
       "      <td>0</td>\n",
       "      <td>0</td>\n",
       "      <td>0</td>\n",
       "    </tr>\n",
       "    <tr>\n",
       "      <th>443</th>\n",
       "      <td>8</td>\n",
       "      <td>2</td>\n",
       "      <td>3</td>\n",
       "      <td>3</td>\n",
       "      <td>0</td>\n",
       "      <td>0</td>\n",
       "      <td>0</td>\n",
       "      <td>0</td>\n",
       "      <td>0</td>\n",
       "      <td>2</td>\n",
       "    </tr>\n",
       "    <tr>\n",
       "      <th>332</th>\n",
       "      <td>10</td>\n",
       "      <td>6</td>\n",
       "      <td>3</td>\n",
       "      <td>1</td>\n",
       "      <td>5</td>\n",
       "      <td>0</td>\n",
       "      <td>0</td>\n",
       "      <td>2</td>\n",
       "      <td>0</td>\n",
       "      <td>2</td>\n",
       "    </tr>\n",
       "    <tr>\n",
       "      <th>543</th>\n",
       "      <td>0</td>\n",
       "      <td>7</td>\n",
       "      <td>2</td>\n",
       "      <td>1</td>\n",
       "      <td>2</td>\n",
       "      <td>0</td>\n",
       "      <td>0</td>\n",
       "      <td>0</td>\n",
       "      <td>0</td>\n",
       "      <td>2</td>\n",
       "    </tr>\n",
       "    <tr>\n",
       "      <th>490</th>\n",
       "      <td>8</td>\n",
       "      <td>5</td>\n",
       "      <td>0</td>\n",
       "      <td>0</td>\n",
       "      <td>1</td>\n",
       "      <td>1</td>\n",
       "      <td>1</td>\n",
       "      <td>1</td>\n",
       "      <td>0</td>\n",
       "      <td>0</td>\n",
       "    </tr>\n",
       "    <tr>\n",
       "      <th>536</th>\n",
       "      <td>0</td>\n",
       "      <td>7</td>\n",
       "      <td>2</td>\n",
       "      <td>2</td>\n",
       "      <td>2</td>\n",
       "      <td>0</td>\n",
       "      <td>0</td>\n",
       "      <td>0</td>\n",
       "      <td>0</td>\n",
       "      <td>2</td>\n",
       "    </tr>\n",
       "    <tr>\n",
       "      <th>67</th>\n",
       "      <td>6</td>\n",
       "      <td>7</td>\n",
       "      <td>4</td>\n",
       "      <td>6</td>\n",
       "      <td>6</td>\n",
       "      <td>0</td>\n",
       "      <td>1</td>\n",
       "      <td>0</td>\n",
       "      <td>1</td>\n",
       "      <td>3</td>\n",
       "    </tr>\n",
       "    <tr>\n",
       "      <th>420</th>\n",
       "      <td>3</td>\n",
       "      <td>4</td>\n",
       "      <td>3</td>\n",
       "      <td>1</td>\n",
       "      <td>1</td>\n",
       "      <td>0</td>\n",
       "      <td>0</td>\n",
       "      <td>2</td>\n",
       "      <td>0</td>\n",
       "      <td>2</td>\n",
       "    </tr>\n",
       "    <tr>\n",
       "      <th>441</th>\n",
       "      <td>6</td>\n",
       "      <td>1</td>\n",
       "      <td>1</td>\n",
       "      <td>4</td>\n",
       "      <td>1</td>\n",
       "      <td>0</td>\n",
       "      <td>0</td>\n",
       "      <td>2</td>\n",
       "      <td>0</td>\n",
       "      <td>2</td>\n",
       "    </tr>\n",
       "    <tr>\n",
       "      <th>290</th>\n",
       "      <td>0</td>\n",
       "      <td>3</td>\n",
       "      <td>0</td>\n",
       "      <td>7</td>\n",
       "      <td>6</td>\n",
       "      <td>1</td>\n",
       "      <td>1</td>\n",
       "      <td>0</td>\n",
       "      <td>1</td>\n",
       "      <td>3</td>\n",
       "    </tr>\n",
       "    <tr>\n",
       "      <th>323</th>\n",
       "      <td>6</td>\n",
       "      <td>0</td>\n",
       "      <td>0</td>\n",
       "      <td>0</td>\n",
       "      <td>4</td>\n",
       "      <td>0</td>\n",
       "      <td>0</td>\n",
       "      <td>0</td>\n",
       "      <td>0</td>\n",
       "      <td>0</td>\n",
       "    </tr>\n",
       "    <tr>\n",
       "      <th>379</th>\n",
       "      <td>4</td>\n",
       "      <td>3</td>\n",
       "      <td>3</td>\n",
       "      <td>1</td>\n",
       "      <td>2</td>\n",
       "      <td>0</td>\n",
       "      <td>0</td>\n",
       "      <td>1</td>\n",
       "      <td>0</td>\n",
       "      <td>1</td>\n",
       "    </tr>\n",
       "    <tr>\n",
       "      <th>430</th>\n",
       "      <td>5</td>\n",
       "      <td>5</td>\n",
       "      <td>2</td>\n",
       "      <td>0</td>\n",
       "      <td>4</td>\n",
       "      <td>0</td>\n",
       "      <td>0</td>\n",
       "      <td>0</td>\n",
       "      <td>0</td>\n",
       "      <td>2</td>\n",
       "    </tr>\n",
       "    <tr>\n",
       "      <th>259</th>\n",
       "      <td>1</td>\n",
       "      <td>7</td>\n",
       "      <td>2</td>\n",
       "      <td>5</td>\n",
       "      <td>2</td>\n",
       "      <td>1</td>\n",
       "      <td>0</td>\n",
       "      <td>2</td>\n",
       "      <td>0</td>\n",
       "      <td>2</td>\n",
       "    </tr>\n",
       "    <tr>\n",
       "      <th>437</th>\n",
       "      <td>9</td>\n",
       "      <td>7</td>\n",
       "      <td>2</td>\n",
       "      <td>3</td>\n",
       "      <td>1</td>\n",
       "      <td>0</td>\n",
       "      <td>0</td>\n",
       "      <td>2</td>\n",
       "      <td>0</td>\n",
       "      <td>1</td>\n",
       "    </tr>\n",
       "    <tr>\n",
       "      <th>37</th>\n",
       "      <td>6</td>\n",
       "      <td>1</td>\n",
       "      <td>0</td>\n",
       "      <td>7</td>\n",
       "      <td>6</td>\n",
       "      <td>1</td>\n",
       "      <td>1</td>\n",
       "      <td>0</td>\n",
       "      <td>1</td>\n",
       "      <td>3</td>\n",
       "    </tr>\n",
       "    <tr>\n",
       "      <th>505</th>\n",
       "      <td>0</td>\n",
       "      <td>7</td>\n",
       "      <td>2</td>\n",
       "      <td>2</td>\n",
       "      <td>1</td>\n",
       "      <td>0</td>\n",
       "      <td>1</td>\n",
       "      <td>0</td>\n",
       "      <td>0</td>\n",
       "      <td>3</td>\n",
       "    </tr>\n",
       "    <tr>\n",
       "      <th>455</th>\n",
       "      <td>0</td>\n",
       "      <td>3</td>\n",
       "      <td>1</td>\n",
       "      <td>6</td>\n",
       "      <td>0</td>\n",
       "      <td>0</td>\n",
       "      <td>0</td>\n",
       "      <td>1</td>\n",
       "      <td>0</td>\n",
       "      <td>1</td>\n",
       "    </tr>\n",
       "    <tr>\n",
       "      <th>547</th>\n",
       "      <td>3</td>\n",
       "      <td>5</td>\n",
       "      <td>2</td>\n",
       "      <td>1</td>\n",
       "      <td>2</td>\n",
       "      <td>0</td>\n",
       "      <td>0</td>\n",
       "      <td>2</td>\n",
       "      <td>0</td>\n",
       "      <td>0</td>\n",
       "    </tr>\n",
       "    <tr>\n",
       "      <th>352</th>\n",
       "      <td>10</td>\n",
       "      <td>7</td>\n",
       "      <td>2</td>\n",
       "      <td>3</td>\n",
       "      <td>1</td>\n",
       "      <td>0</td>\n",
       "      <td>0</td>\n",
       "      <td>2</td>\n",
       "      <td>0</td>\n",
       "      <td>1</td>\n",
       "    </tr>\n",
       "    <tr>\n",
       "      <th>384</th>\n",
       "      <td>9</td>\n",
       "      <td>7</td>\n",
       "      <td>1</td>\n",
       "      <td>5</td>\n",
       "      <td>0</td>\n",
       "      <td>0</td>\n",
       "      <td>1</td>\n",
       "      <td>1</td>\n",
       "      <td>0</td>\n",
       "      <td>0</td>\n",
       "    </tr>\n",
       "    <tr>\n",
       "      <th>497</th>\n",
       "      <td>1</td>\n",
       "      <td>3</td>\n",
       "      <td>1</td>\n",
       "      <td>2</td>\n",
       "      <td>3</td>\n",
       "      <td>0</td>\n",
       "      <td>0</td>\n",
       "      <td>1</td>\n",
       "      <td>0</td>\n",
       "      <td>0</td>\n",
       "    </tr>\n",
       "    <tr>\n",
       "      <th>494</th>\n",
       "      <td>5</td>\n",
       "      <td>2</td>\n",
       "      <td>1</td>\n",
       "      <td>2</td>\n",
       "      <td>0</td>\n",
       "      <td>0</td>\n",
       "      <td>0</td>\n",
       "      <td>1</td>\n",
       "      <td>0</td>\n",
       "      <td>2</td>\n",
       "    </tr>\n",
       "    <tr>\n",
       "      <th>236</th>\n",
       "      <td>8</td>\n",
       "      <td>1</td>\n",
       "      <td>0</td>\n",
       "      <td>6</td>\n",
       "      <td>6</td>\n",
       "      <td>1</td>\n",
       "      <td>1</td>\n",
       "      <td>0</td>\n",
       "      <td>1</td>\n",
       "      <td>3</td>\n",
       "    </tr>\n",
       "    <tr>\n",
       "      <th>448</th>\n",
       "      <td>9</td>\n",
       "      <td>2</td>\n",
       "      <td>3</td>\n",
       "      <td>2</td>\n",
       "      <td>0</td>\n",
       "      <td>0</td>\n",
       "      <td>0</td>\n",
       "      <td>0</td>\n",
       "      <td>0</td>\n",
       "      <td>2</td>\n",
       "    </tr>\n",
       "    <tr>\n",
       "      <th>522</th>\n",
       "      <td>7</td>\n",
       "      <td>4</td>\n",
       "      <td>1</td>\n",
       "      <td>5</td>\n",
       "      <td>0</td>\n",
       "      <td>1</td>\n",
       "      <td>0</td>\n",
       "      <td>1</td>\n",
       "      <td>1</td>\n",
       "      <td>1</td>\n",
       "    </tr>\n",
       "    <tr>\n",
       "      <th>474</th>\n",
       "      <td>6</td>\n",
       "      <td>3</td>\n",
       "      <td>2</td>\n",
       "      <td>5</td>\n",
       "      <td>0</td>\n",
       "      <td>0</td>\n",
       "      <td>0</td>\n",
       "      <td>2</td>\n",
       "      <td>0</td>\n",
       "      <td>1</td>\n",
       "    </tr>\n",
       "    <tr>\n",
       "      <th>247</th>\n",
       "      <td>2</td>\n",
       "      <td>5</td>\n",
       "      <td>2</td>\n",
       "      <td>3</td>\n",
       "      <td>1</td>\n",
       "      <td>0</td>\n",
       "      <td>0</td>\n",
       "      <td>2</td>\n",
       "      <td>0</td>\n",
       "      <td>2</td>\n",
       "    </tr>\n",
       "    <tr>\n",
       "      <th>526</th>\n",
       "      <td>9</td>\n",
       "      <td>8</td>\n",
       "      <td>1</td>\n",
       "      <td>6</td>\n",
       "      <td>1</td>\n",
       "      <td>0</td>\n",
       "      <td>0</td>\n",
       "      <td>0</td>\n",
       "      <td>0</td>\n",
       "      <td>3</td>\n",
       "    </tr>\n",
       "    <tr>\n",
       "      <th>97</th>\n",
       "      <td>3</td>\n",
       "      <td>7</td>\n",
       "      <td>4</td>\n",
       "      <td>6</td>\n",
       "      <td>6</td>\n",
       "      <td>1</td>\n",
       "      <td>1</td>\n",
       "      <td>0</td>\n",
       "      <td>1</td>\n",
       "      <td>3</td>\n",
       "    </tr>\n",
       "    <tr>\n",
       "      <th>222</th>\n",
       "      <td>6</td>\n",
       "      <td>4</td>\n",
       "      <td>0</td>\n",
       "      <td>4</td>\n",
       "      <td>4</td>\n",
       "      <td>1</td>\n",
       "      <td>0</td>\n",
       "      <td>0</td>\n",
       "      <td>1</td>\n",
       "      <td>0</td>\n",
       "    </tr>\n",
       "    <tr>\n",
       "      <th>204</th>\n",
       "      <td>5</td>\n",
       "      <td>2</td>\n",
       "      <td>4</td>\n",
       "      <td>1</td>\n",
       "      <td>6</td>\n",
       "      <td>1</td>\n",
       "      <td>0</td>\n",
       "      <td>1</td>\n",
       "      <td>0</td>\n",
       "      <td>0</td>\n",
       "    </tr>\n",
       "    <tr>\n",
       "      <th>345</th>\n",
       "      <td>5</td>\n",
       "      <td>7</td>\n",
       "      <td>1</td>\n",
       "      <td>2</td>\n",
       "      <td>0</td>\n",
       "      <td>0</td>\n",
       "      <td>0</td>\n",
       "      <td>2</td>\n",
       "      <td>0</td>\n",
       "      <td>1</td>\n",
       "    </tr>\n",
       "    <tr>\n",
       "      <th>517</th>\n",
       "      <td>7</td>\n",
       "      <td>8</td>\n",
       "      <td>3</td>\n",
       "      <td>2</td>\n",
       "      <td>1</td>\n",
       "      <td>1</td>\n",
       "      <td>0</td>\n",
       "      <td>0</td>\n",
       "      <td>0</td>\n",
       "      <td>2</td>\n",
       "    </tr>\n",
       "    <tr>\n",
       "      <th>179</th>\n",
       "      <td>5</td>\n",
       "      <td>7</td>\n",
       "      <td>0</td>\n",
       "      <td>7</td>\n",
       "      <td>4</td>\n",
       "      <td>1</td>\n",
       "      <td>1</td>\n",
       "      <td>1</td>\n",
       "      <td>1</td>\n",
       "      <td>0</td>\n",
       "    </tr>\n",
       "    <tr>\n",
       "      <th>471</th>\n",
       "      <td>2</td>\n",
       "      <td>4</td>\n",
       "      <td>2</td>\n",
       "      <td>2</td>\n",
       "      <td>2</td>\n",
       "      <td>0</td>\n",
       "      <td>0</td>\n",
       "      <td>1</td>\n",
       "      <td>0</td>\n",
       "      <td>0</td>\n",
       "    </tr>\n",
       "    <tr>\n",
       "      <th>42</th>\n",
       "      <td>1</td>\n",
       "      <td>8</td>\n",
       "      <td>1</td>\n",
       "      <td>4</td>\n",
       "      <td>0</td>\n",
       "      <td>1</td>\n",
       "      <td>1</td>\n",
       "      <td>0</td>\n",
       "      <td>1</td>\n",
       "      <td>3</td>\n",
       "    </tr>\n",
       "    <tr>\n",
       "      <th>216</th>\n",
       "      <td>0</td>\n",
       "      <td>4</td>\n",
       "      <td>0</td>\n",
       "      <td>0</td>\n",
       "      <td>4</td>\n",
       "      <td>1</td>\n",
       "      <td>0</td>\n",
       "      <td>0</td>\n",
       "      <td>1</td>\n",
       "      <td>0</td>\n",
       "    </tr>\n",
       "    <tr>\n",
       "      <th>244</th>\n",
       "      <td>0</td>\n",
       "      <td>1</td>\n",
       "      <td>1</td>\n",
       "      <td>1</td>\n",
       "      <td>6</td>\n",
       "      <td>1</td>\n",
       "      <td>1</td>\n",
       "      <td>2</td>\n",
       "      <td>0</td>\n",
       "      <td>3</td>\n",
       "    </tr>\n",
       "    <tr>\n",
       "      <th>162</th>\n",
       "      <td>11</td>\n",
       "      <td>6</td>\n",
       "      <td>0</td>\n",
       "      <td>4</td>\n",
       "      <td>0</td>\n",
       "      <td>1</td>\n",
       "      <td>1</td>\n",
       "      <td>0</td>\n",
       "      <td>1</td>\n",
       "      <td>0</td>\n",
       "    </tr>\n",
       "    <tr>\n",
       "      <th>166</th>\n",
       "      <td>5</td>\n",
       "      <td>7</td>\n",
       "      <td>4</td>\n",
       "      <td>0</td>\n",
       "      <td>6</td>\n",
       "      <td>0</td>\n",
       "      <td>1</td>\n",
       "      <td>0</td>\n",
       "      <td>0</td>\n",
       "      <td>3</td>\n",
       "    </tr>\n",
       "    <tr>\n",
       "      <th>386</th>\n",
       "      <td>10</td>\n",
       "      <td>7</td>\n",
       "      <td>2</td>\n",
       "      <td>3</td>\n",
       "      <td>1</td>\n",
       "      <td>0</td>\n",
       "      <td>0</td>\n",
       "      <td>2</td>\n",
       "      <td>0</td>\n",
       "      <td>2</td>\n",
       "    </tr>\n",
       "  </tbody>\n",
       "</table>\n",
       "</div>\n",
       "      <button class=\"colab-df-convert\" onclick=\"convertToInteractive('df-1fe368a4-9ea4-405e-a931-27edffca5b50')\"\n",
       "              title=\"Convert this dataframe to an interactive table.\"\n",
       "              style=\"display:none;\">\n",
       "        \n",
       "  <svg xmlns=\"http://www.w3.org/2000/svg\" height=\"24px\"viewBox=\"0 0 24 24\"\n",
       "       width=\"24px\">\n",
       "    <path d=\"M0 0h24v24H0V0z\" fill=\"none\"/>\n",
       "    <path d=\"M18.56 5.44l.94 2.06.94-2.06 2.06-.94-2.06-.94-.94-2.06-.94 2.06-2.06.94zm-11 1L8.5 8.5l.94-2.06 2.06-.94-2.06-.94L8.5 2.5l-.94 2.06-2.06.94zm10 10l.94 2.06.94-2.06 2.06-.94-2.06-.94-.94-2.06-.94 2.06-2.06.94z\"/><path d=\"M17.41 7.96l-1.37-1.37c-.4-.4-.92-.59-1.43-.59-.52 0-1.04.2-1.43.59L10.3 9.45l-7.72 7.72c-.78.78-.78 2.05 0 2.83L4 21.41c.39.39.9.59 1.41.59.51 0 1.02-.2 1.41-.59l7.78-7.78 2.81-2.81c.8-.78.8-2.07 0-2.86zM5.41 20L4 18.59l7.72-7.72 1.47 1.35L5.41 20z\"/>\n",
       "  </svg>\n",
       "      </button>\n",
       "      \n",
       "  <style>\n",
       "    .colab-df-container {\n",
       "      display:flex;\n",
       "      flex-wrap:wrap;\n",
       "      gap: 12px;\n",
       "    }\n",
       "\n",
       "    .colab-df-convert {\n",
       "      background-color: #E8F0FE;\n",
       "      border: none;\n",
       "      border-radius: 50%;\n",
       "      cursor: pointer;\n",
       "      display: none;\n",
       "      fill: #1967D2;\n",
       "      height: 32px;\n",
       "      padding: 0 0 0 0;\n",
       "      width: 32px;\n",
       "    }\n",
       "\n",
       "    .colab-df-convert:hover {\n",
       "      background-color: #E2EBFA;\n",
       "      box-shadow: 0px 1px 2px rgba(60, 64, 67, 0.3), 0px 1px 3px 1px rgba(60, 64, 67, 0.15);\n",
       "      fill: #174EA6;\n",
       "    }\n",
       "\n",
       "    [theme=dark] .colab-df-convert {\n",
       "      background-color: #3B4455;\n",
       "      fill: #D2E3FC;\n",
       "    }\n",
       "\n",
       "    [theme=dark] .colab-df-convert:hover {\n",
       "      background-color: #434B5C;\n",
       "      box-shadow: 0px 1px 3px 1px rgba(0, 0, 0, 0.15);\n",
       "      filter: drop-shadow(0px 1px 2px rgba(0, 0, 0, 0.3));\n",
       "      fill: #FFFFFF;\n",
       "    }\n",
       "  </style>\n",
       "\n",
       "      <script>\n",
       "        const buttonEl =\n",
       "          document.querySelector('#df-1fe368a4-9ea4-405e-a931-27edffca5b50 button.colab-df-convert');\n",
       "        buttonEl.style.display =\n",
       "          google.colab.kernel.accessAllowed ? 'block' : 'none';\n",
       "\n",
       "        async function convertToInteractive(key) {\n",
       "          const element = document.querySelector('#df-1fe368a4-9ea4-405e-a931-27edffca5b50');\n",
       "          const dataTable =\n",
       "            await google.colab.kernel.invokeFunction('convertToInteractive',\n",
       "                                                     [key], {});\n",
       "          if (!dataTable) return;\n",
       "\n",
       "          const docLinkHtml = 'Like what you see? Visit the ' +\n",
       "            '<a target=\"_blank\" href=https://colab.research.google.com/notebooks/data_table.ipynb>data table notebook</a>'\n",
       "            + ' to learn more about interactive tables.';\n",
       "          element.innerHTML = '';\n",
       "          dataTable['output_type'] = 'display_data';\n",
       "          await google.colab.output.renderOutput(dataTable, element);\n",
       "          const docLink = document.createElement('div');\n",
       "          docLink.innerHTML = docLinkHtml;\n",
       "          element.appendChild(docLink);\n",
       "        }\n",
       "      </script>\n",
       "    </div>\n",
       "  </div>\n",
       "  "
      ],
      "text/plain": [
       "     Highest_Yeild_Month  Location  NumHives  Flowers  HarvestFreq  Symptoms  \\\n",
       "263                    3         4         3        2            4         0   \n",
       "468                    6         7         1        0            0         1   \n",
       "201                    0         3         0        7            4         1   \n",
       "213                    3         5         0        1            4         1   \n",
       "65                     3         7         0        3            4         0   \n",
       "191                    6         6         0        7            4         1   \n",
       "491                    0         3         1        6            0         0   \n",
       "126                    3         1         4        0            6         1   \n",
       "445                    2         1         0        4            3         0   \n",
       "23                     6         6         1        0            6         0   \n",
       "98                     0         7         0        7            4         0   \n",
       "170                   10         7         4        6            6         1   \n",
       "364                    9         6         2        2            3         0   \n",
       "208                    8         0         4        7            4         0   \n",
       "145                    8         8         2        2            1         1   \n",
       "443                    8         2         3        3            0         0   \n",
       "332                   10         6         3        1            5         0   \n",
       "543                    0         7         2        1            2         0   \n",
       "490                    8         5         0        0            1         1   \n",
       "536                    0         7         2        2            2         0   \n",
       "67                     6         7         4        6            6         0   \n",
       "420                    3         4         3        1            1         0   \n",
       "441                    6         1         1        4            1         0   \n",
       "290                    0         3         0        7            6         1   \n",
       "323                    6         0         0        0            4         0   \n",
       "379                    4         3         3        1            2         0   \n",
       "430                    5         5         2        0            4         0   \n",
       "259                    1         7         2        5            2         1   \n",
       "437                    9         7         2        3            1         0   \n",
       "37                     6         1         0        7            6         1   \n",
       "505                    0         7         2        2            1         0   \n",
       "455                    0         3         1        6            0         0   \n",
       "547                    3         5         2        1            2         0   \n",
       "352                   10         7         2        3            1         0   \n",
       "384                    9         7         1        5            0         0   \n",
       "497                    1         3         1        2            3         0   \n",
       "494                    5         2         1        2            0         0   \n",
       "236                    8         1         0        6            6         1   \n",
       "448                    9         2         3        2            0         0   \n",
       "522                    7         4         1        5            0         1   \n",
       "474                    6         3         2        5            0         0   \n",
       "247                    2         5         2        3            1         0   \n",
       "526                    9         8         1        6            1         0   \n",
       "97                     3         7         4        6            6         1   \n",
       "222                    6         4         0        4            4         1   \n",
       "204                    5         2         4        1            6         1   \n",
       "345                    5         7         1        2            0         0   \n",
       "517                    7         8         3        2            1         1   \n",
       "179                    5         7         0        7            4         1   \n",
       "471                    2         4         2        2            2         0   \n",
       "42                     1         8         1        4            0         1   \n",
       "216                    0         4         0        0            4         1   \n",
       "244                    0         1         1        1            6         1   \n",
       "162                   11         6         0        4            0         1   \n",
       "166                    5         7         4        0            6         0   \n",
       "386                   10         7         2        3            1         0   \n",
       "\n",
       "     DeadBees  InspectFreq  ColonyChanges  TempRange  \n",
       "263         1            2              1          1  \n",
       "468         0            1              1          3  \n",
       "201         0            1              1          0  \n",
       "213         0            0              0          0  \n",
       "65          1            1              1          3  \n",
       "191         1            0              1          3  \n",
       "491         0            1              0          1  \n",
       "126         0            1              1          3  \n",
       "445         1            0              0          1  \n",
       "23          1            0              1          3  \n",
       "98          0            1              1          3  \n",
       "170         1            0              1          3  \n",
       "364         0            2              0          1  \n",
       "208         0            0              1          0  \n",
       "145         1            0              0          0  \n",
       "443         0            0              0          2  \n",
       "332         0            2              0          2  \n",
       "543         0            0              0          2  \n",
       "490         1            1              0          0  \n",
       "536         0            0              0          2  \n",
       "67          1            0              1          3  \n",
       "420         0            2              0          2  \n",
       "441         0            2              0          2  \n",
       "290         1            0              1          3  \n",
       "323         0            0              0          0  \n",
       "379         0            1              0          1  \n",
       "430         0            0              0          2  \n",
       "259         0            2              0          2  \n",
       "437         0            2              0          1  \n",
       "37          1            0              1          3  \n",
       "505         1            0              0          3  \n",
       "455         0            1              0          1  \n",
       "547         0            2              0          0  \n",
       "352         0            2              0          1  \n",
       "384         1            1              0          0  \n",
       "497         0            1              0          0  \n",
       "494         0            1              0          2  \n",
       "236         1            0              1          3  \n",
       "448         0            0              0          2  \n",
       "522         0            1              1          1  \n",
       "474         0            2              0          1  \n",
       "247         0            2              0          2  \n",
       "526         0            0              0          3  \n",
       "97          1            0              1          3  \n",
       "222         0            0              1          0  \n",
       "204         0            1              0          0  \n",
       "345         0            2              0          1  \n",
       "517         0            0              0          2  \n",
       "179         1            1              1          0  \n",
       "471         0            1              0          0  \n",
       "42          1            0              1          3  \n",
       "216         0            0              1          0  \n",
       "244         1            2              0          3  \n",
       "162         1            0              1          0  \n",
       "166         1            0              0          3  \n",
       "386         0            2              0          2  "
      ]
     },
     "execution_count": 52,
     "metadata": {},
     "output_type": "execute_result"
    }
   ],
   "source": [
    "test_x #This is our input data for the prediction"
   ]
  },
  {
   "cell_type": "code",
   "execution_count": null,
   "metadata": {
    "colab": {
     "base_uri": "https://localhost:8080/"
    },
    "id": "nkwt7Id1F7vO",
    "outputId": "6805a258-f34c-4051-b010-9b66707b72a7"
   },
   "outputs": [
    {
     "data": {
      "text/plain": [
       "263    2\n",
       "468    3\n",
       "201    0\n",
       "213    0\n",
       "65     0\n",
       "191    0\n",
       "491    3\n",
       "126    2\n",
       "445    1\n",
       "23     1\n",
       "98     2\n",
       "170    2\n",
       "364    1\n",
       "208    2\n",
       "145    3\n",
       "443    1\n",
       "332    1\n",
       "543    3\n",
       "490    3\n",
       "536    3\n",
       "67     2\n",
       "420    1\n",
       "441    1\n",
       "290    0\n",
       "323    0\n",
       "379    1\n",
       "430    1\n",
       "259    3\n",
       "437    1\n",
       "37     0\n",
       "505    3\n",
       "455    3\n",
       "547    3\n",
       "352    1\n",
       "384    1\n",
       "497    3\n",
       "494    3\n",
       "236    2\n",
       "448    1\n",
       "522    3\n",
       "474    3\n",
       "247    1\n",
       "526    3\n",
       "97     2\n",
       "222    0\n",
       "204    0\n",
       "345    1\n",
       "517    3\n",
       "179    0\n",
       "471    3\n",
       "42     3\n",
       "216    0\n",
       "244    3\n",
       "162    2\n",
       "166    2\n",
       "386    1\n",
       "Name: AvgYield, dtype: int64"
      ]
     },
     "execution_count": 53,
     "metadata": {},
     "output_type": "execute_result"
    }
   ],
   "source": [
    "test_y #this is our actual output data (AvgYield) for the previous test data"
   ]
  },
  {
   "cell_type": "markdown",
   "metadata": {
    "id": "_jRrEqtP7SKn"
   },
   "source": [
    "## Model 1 - DecisionTreeClassifier"
   ]
  },
  {
   "cell_type": "code",
   "execution_count": null,
   "metadata": {
    "colab": {
     "base_uri": "https://localhost:8080/"
    },
    "id": "0yno9ZFqB7Lu",
    "outputId": "20831104-d34c-4aee-e693-3161821012bd"
   },
   "outputs": [
    {
     "name": "stdout",
     "output_type": "stream",
     "text": [
      "Best hyperparameters:  {'criterion': 'gini', 'max_depth': 8}\n"
     ]
    }
   ],
   "source": [
    "from sklearn.tree import DecisionTreeClassifier\n",
    "from sklearn.model_selection import GridSearchCV\n",
    "from sklearn.metrics import accuracy_score\n",
    "\n",
    "# Create a decision tree classifier object\n",
    "clf = DecisionTreeClassifier()\n",
    "\n",
    "# Define the grid of hyperparameters to search over\n",
    "param_grid = {\n",
    "    'criterion': ['gini', 'entropy'],\n",
    "    'max_depth': [1,2,3,4,5,6,7,8,9,10],\n",
    "}\n",
    "\n",
    "# Create a grid search object\n",
    "grid_search = GridSearchCV(clf, param_grid, cv=5)\n",
    "\n",
    "# Fit the GridSearchCV object to the training data\n",
    "grid_search.fit(train_x, train_y)\n",
    "\n",
    "# Print the best hyperparameters found by GridSearchCV\n",
    "print(\"Best hyperparameters: \", grid_search.best_params_)\n",
    "\n",
    "# Use the best model to make predictions on the test data\n",
    "best_decision_tree_model = grid_search.best_estimator_\n",
    "y_pred = best_decision_tree_model.predict(test_x)"
   ]
  },
  {
   "cell_type": "code",
   "execution_count": null,
   "metadata": {
    "colab": {
     "base_uri": "https://localhost:8080/"
    },
    "id": "TjG2m50hGqEE",
    "outputId": "dbc8d9fc-0736-4c3b-eee7-c72d95909cb3"
   },
   "outputs": [
    {
     "data": {
      "text/plain": [
       "array([1, 3, 0, 0, 0, 0, 3, 2, 1, 2, 0, 2, 1, 2, 2, 1, 1, 1, 2, 1, 2, 1,\n",
       "       3, 0, 3, 1, 1, 3, 1, 0, 3, 3, 3, 1, 1, 3, 1, 0, 1, 3, 3, 3, 3, 2,\n",
       "       0, 2, 1, 3, 0, 3, 1, 2, 3, 1, 2, 1])"
      ]
     },
     "execution_count": 55,
     "metadata": {},
     "output_type": "execute_result"
    }
   ],
   "source": [
    "# let's see the model predicted \n",
    "y_pred"
   ]
  },
  {
   "cell_type": "markdown",
   "metadata": {
    "id": "Cr7nN09bRY7D"
   },
   "source": [
    "**Accuracy Mesurements**"
   ]
  },
  {
   "cell_type": "code",
   "execution_count": null,
   "metadata": {
    "colab": {
     "base_uri": "https://localhost:8080/"
    },
    "id": "QAxmzx9x_S9y",
    "outputId": "2313f402-0b03-42ef-92ac-6e51f2c1d5db"
   },
   "outputs": [
    {
     "name": "stdout",
     "output_type": "stream",
     "text": [
      "Accuracy: 0.7142857142857143\n"
     ]
    }
   ],
   "source": [
    "accuracy = accuracy_score(test_y, y_pred)\n",
    "print('Accuracy:', accuracy)"
   ]
  },
  {
   "cell_type": "code",
   "execution_count": null,
   "metadata": {
    "colab": {
     "base_uri": "https://localhost:8080/"
    },
    "id": "0RGbaHgsRF-i",
    "outputId": "b0414658-4115-476b-a54a-246b52d863ca"
   },
   "outputs": [
    {
     "name": "stdout",
     "output_type": "stream",
     "text": [
      "[[ 8  0  2  1]\n",
      " [ 0 13  1  2]\n",
      " [ 2  2  6  0]\n",
      " [ 0  4  2 13]]\n",
      "              precision    recall  f1-score   support\n",
      "\n",
      "           0       0.80      0.73      0.76        11\n",
      "           1       0.68      0.81      0.74        16\n",
      "           2       0.55      0.60      0.57        10\n",
      "           3       0.81      0.68      0.74        19\n",
      "\n",
      "    accuracy                           0.71        56\n",
      "   macro avg       0.71      0.71      0.70        56\n",
      "weighted avg       0.73      0.71      0.72        56\n",
      "\n"
     ]
    }
   ],
   "source": [
    "from sklearn.metrics import classification_report, confusion_matrix\n",
    "cf_matrix=confusion_matrix(test_y,y_pred)\n",
    "print(cf_matrix)\n",
    "print(classification_report(test_y,y_pred))"
   ]
  },
  {
   "cell_type": "code",
   "execution_count": null,
   "metadata": {
    "colab": {
     "base_uri": "https://localhost:8080/",
     "height": 472
    },
    "id": "cQCTPph9RTb4",
    "outputId": "bd5c704f-4312-4516-d535-be52bf05e62d"
   },
   "outputs": [
    {
     "data": {
      "image/png": "[encoded data removed]",
      "text/plain": [
       "<Figure size 640x480 with 2 Axes>"
      ]
     },
     "metadata": {},
     "output_type": "display_data"
    }
   ],
   "source": [
    "ax= plt.subplot()\n",
    "sns.heatmap(cf_matrix/np.sum(cf_matrix), annot=True,fmt='.2%', cmap='Blues', ax=ax);  \n",
    "\n",
    "ax.set_xlabel('Predicted labels');\n",
    "ax.set_ylabel('True labels'); \n",
    "ax.set_title('Confusion Matrix'); "
   ]
  },
  {
   "cell_type": "markdown",
   "metadata": {
    "id": "gwqdk0OWAWJw"
   },
   "source": [
    "## Model 2 - RandomForestClassifier"
   ]
  },
  {
   "cell_type": "code",
   "execution_count": null,
   "metadata": {
    "colab": {
     "base_uri": "https://localhost:8080/"
    },
    "id": "5YYxhOXpC2Il",
    "outputId": "ba5d5ade-da4e-42bf-a5ba-13a4d77f6e0c"
   },
   "outputs": [
    {
     "name": "stdout",
     "output_type": "stream",
     "text": [
      "Best hyperparameters:  {'max_depth': 10, 'n_estimators': 20}\n"
     ]
    }
   ],
   "source": [
    "from sklearn.ensemble import RandomForestClassifier\n",
    "from sklearn.model_selection import GridSearchCV\n",
    "\n",
    "# Create a random forest classifier object\n",
    "clf = RandomForestClassifier()\n",
    "\n",
    "# Define the grid of hyperparameters to search over\n",
    "param_grid = {\n",
    "    'n_estimators': [10,20,30,40,50,60],\n",
    "    'max_depth': [2, 5, 10, 15],\n",
    "}\n",
    "\n",
    "# Create a grid search object\n",
    "grid_search = GridSearchCV(clf, param_grid, cv=5)\n",
    "\n",
    "# Fit the GridSearchCV object to the training data\n",
    "grid_search.fit(train_x, train_y)\n",
    "\n",
    "# Print the best hyperparameters found by GridSearchCV\n",
    "print(\"Best hyperparameters: \", grid_search.best_params_)\n",
    "\n",
    "# Use the best model to make predictions on the test data\n",
    "best_random_forest_model = grid_search.best_estimator_\n",
    "y_pred = best_random_forest_model.predict(test_x)"
   ]
  },
  {
   "cell_type": "code",
   "execution_count": null,
   "metadata": {
    "colab": {
     "base_uri": "https://localhost:8080/"
    },
    "id": "nG8ulV9nQTOF",
    "outputId": "3273a96d-e319-43c8-ebcb-5383c2c71830"
   },
   "outputs": [
    {
     "data": {
      "text/plain": [
       "array([1, 3, 0, 0, 3, 0, 3, 2, 1, 2, 0, 2, 1, 0, 3, 1, 1, 3, 3, 3, 2, 1,\n",
       "       1, 0, 0, 1, 1, 3, 1, 0, 3, 3, 3, 1, 1, 3, 3, 0, 1, 3, 3, 1, 3, 2,\n",
       "       0, 0, 1, 3, 0, 3, 3, 2, 2, 0, 2, 1])"
      ]
     },
     "execution_count": 60,
     "metadata": {},
     "output_type": "execute_result"
    }
   ],
   "source": [
    "y_pred"
   ]
  },
  {
   "cell_type": "markdown",
   "metadata": {
    "id": "YPlEPtH4RyHN"
   },
   "source": [
    "**Accuracy Mesurements**"
   ]
  },
  {
   "cell_type": "code",
   "execution_count": null,
   "metadata": {
    "colab": {
     "base_uri": "https://localhost:8080/"
    },
    "id": "rE7lspEtRxhh",
    "outputId": "a2b49e2d-bcf2-499d-c91c-efe6c06b5eec"
   },
   "outputs": [
    {
     "name": "stdout",
     "output_type": "stream",
     "text": [
      "Accuracy: 0.8392857142857143\n"
     ]
    }
   ],
   "source": [
    "accuracy = accuracy_score(test_y, y_pred)\n",
    "print('Accuracy:', accuracy)"
   ]
  },
  {
   "cell_type": "code",
   "execution_count": null,
   "metadata": {
    "colab": {
     "base_uri": "https://localhost:8080/"
    },
    "id": "wZL2vdcAb1vj",
    "outputId": "40c20dee-c6c9-4110-8fa7-b077fec7ad7d"
   },
   "outputs": [
    {
     "name": "stdout",
     "output_type": "stream",
     "text": [
      "[[ 9  0  1  1]\n",
      " [ 0 15  1  0]\n",
      " [ 4  1  5  0]\n",
      " [ 0  0  1 18]]\n",
      "              precision    recall  f1-score   support\n",
      "\n",
      "           0       0.69      0.82      0.75        11\n",
      "           1       0.94      0.94      0.94        16\n",
      "           2       0.62      0.50      0.56        10\n",
      "           3       0.95      0.95      0.95        19\n",
      "\n",
      "    accuracy                           0.84        56\n",
      "   macro avg       0.80      0.80      0.80        56\n",
      "weighted avg       0.84      0.84      0.84        56\n",
      "\n"
     ]
    }
   ],
   "source": [
    "from sklearn.metrics import classification_report, confusion_matrix\n",
    "cf_matrix=confusion_matrix(test_y,y_pred)\n",
    "print(cf_matrix)\n",
    "print(classification_report(test_y,y_pred))"
   ]
  },
  {
   "cell_type": "code",
   "execution_count": null,
   "metadata": {
    "colab": {
     "base_uri": "https://localhost:8080/",
     "height": 472
    },
    "id": "X46nVGFpR_gA",
    "outputId": "e4b9e69f-9b19-4db9-b66a-075f268193e5"
   },
   "outputs": [
    {
     "data": {
      "image/png": "[encoded data removed]",
      "text/plain": [
       "<Figure size 640x480 with 2 Axes>"
      ]
     },
     "metadata": {},
     "output_type": "display_data"
    }
   ],
   "source": [
    "ax= plt.subplot()\n",
    "sns.heatmap(cf_matrix/np.sum(cf_matrix), annot=True,fmt='.2%', cmap='Blues', ax=ax);  \n",
    "\n",
    "ax.set_xlabel('Predicted labels');\n",
    "ax.set_ylabel('True labels'); \n",
    "ax.set_title('Confusion Matrix'); "
   ]
  },
  {
   "cell_type": "markdown",
   "metadata": {
    "id": "w7wtxUkSgF_l"
   },
   "source": [
    "## Model 3 - XGBoost Classifier"
   ]
  },
  {
   "cell_type": "code",
   "execution_count": null,
   "metadata": {
    "colab": {
     "base_uri": "https://localhost:8080/"
    },
    "id": "UdgWEhq099sc",
    "outputId": "11c88093-dd3c-472e-9c9e-5ff040e62673"
   },
   "outputs": [
    {
     "name": "stdout",
     "output_type": "stream",
     "text": [
      "Fitting 5 folds for each of 100 candidates, totalling 500 fits\n",
      "Best hyperparameters:  {'gamma': 0.4, 'learning_rate': 0.1, 'max_depth': 11}\n"
     ]
    }
   ],
   "source": [
    "from xgboost import XGBClassifier\n",
    "from sklearn.model_selection import GridSearchCV\n",
    "\n",
    "# Define the XGBoost model with default parameters\n",
    "xgbc = XGBClassifier(objective='multi:softmax', num_class=4, max_depth=10, eta=0.1)\n",
    "\n",
    "# Define the hyperparameter grid to search over\n",
    "param_grid = {\n",
    "    'max_depth': [3, 5, 7, 9,11],\n",
    "    'gamma': [0, 0.1, 0.2, 0.3, 0.4],\n",
    "    'learning_rate': [0.01, 0.05, 0.1, 0.2]\n",
    "}\n",
    "\n",
    "# Define the GridSearchCV object with the XGBoost model and hyperparameter grid\n",
    "grid_search = GridSearchCV(estimator=xgbc, param_grid=param_grid, cv=5, n_jobs=-1, verbose=2)\n",
    "\n",
    "# Fit the GridSearchCV object to the training data\n",
    "grid_search.fit(train_x, train_y)\n",
    "\n",
    "# Print the best hyperparameters found by GridSearchCV\n",
    "print(\"Best hyperparameters: \", grid_search.best_params_)\n",
    "\n",
    "# Use the best model to make predictions on the test data\n",
    "best_xgb_model = grid_search.best_estimator_\n",
    "y_pred = best_xgb_model.predict(test_x)"
   ]
  },
  {
   "cell_type": "code",
   "execution_count": null,
   "metadata": {
    "colab": {
     "base_uri": "https://localhost:8080/"
    },
    "id": "2K_4r5OdRm8L",
    "outputId": "e51352bb-c0a2-40af-b25b-ea0934032779"
   },
   "outputs": [
    {
     "data": {
      "text/plain": [
       "array([1, 3, 0, 0, 0, 0, 3, 2, 1, 2, 0, 2, 1, 2, 3, 1, 1, 3, 0, 3, 2, 1,\n",
       "       3, 2, 0, 1, 1, 3, 1, 0, 3, 3, 3, 1, 1, 3, 3, 0, 1, 3, 3, 1, 3, 2,\n",
       "       0, 0, 1, 3, 0, 3, 2, 0, 2, 0, 2, 1], dtype=int32)"
      ]
     },
     "execution_count": 65,
     "metadata": {},
     "output_type": "execute_result"
    }
   ],
   "source": [
    "y_pred"
   ]
  },
  {
   "cell_type": "markdown",
   "metadata": {
    "id": "zZ90qakLSBdj"
   },
   "source": [
    "**Accuracy Mesurements**"
   ]
  },
  {
   "cell_type": "code",
   "execution_count": null,
   "metadata": {
    "colab": {
     "base_uri": "https://localhost:8080/"
    },
    "id": "FykFxexzSCzg",
    "outputId": "a8ff8b54-168c-4a04-8050-bd3ad8f1d07e"
   },
   "outputs": [
    {
     "name": "stdout",
     "output_type": "stream",
     "text": [
      "Accuracy: 0.8214285714285714\n"
     ]
    }
   ],
   "source": [
    "accuracy = accuracy_score(test_y, y_pred)\n",
    "print('Accuracy:', accuracy)"
   ]
  },
  {
   "cell_type": "code",
   "execution_count": null,
   "metadata": {
    "colab": {
     "base_uri": "https://localhost:8080/"
    },
    "id": "VM9-mq3uSCvJ",
    "outputId": "2da6c916-6e21-464a-e135-e6df6dd70b5c"
   },
   "outputs": [
    {
     "name": "stdout",
     "output_type": "stream",
     "text": [
      "[[10  0  1  0]\n",
      " [ 0 14  1  1]\n",
      " [ 3  1  6  0]\n",
      " [ 1  0  2 16]]\n",
      "              precision    recall  f1-score   support\n",
      "\n",
      "           0       0.71      0.91      0.80        11\n",
      "           1       0.93      0.88      0.90        16\n",
      "           2       0.60      0.60      0.60        10\n",
      "           3       0.94      0.84      0.89        19\n",
      "\n",
      "    accuracy                           0.82        56\n",
      "   macro avg       0.80      0.81      0.80        56\n",
      "weighted avg       0.83      0.82      0.82        56\n",
      "\n"
     ]
    }
   ],
   "source": [
    "from sklearn.metrics import classification_report, confusion_matrix\n",
    "cf_matrix=confusion_matrix(test_y,y_pred)\n",
    "print(cf_matrix)\n",
    "print(classification_report(test_y,y_pred))"
   ]
  },
  {
   "cell_type": "code",
   "execution_count": null,
   "metadata": {
    "colab": {
     "base_uri": "https://localhost:8080/",
     "height": 472
    },
    "id": "0_xbHKEnSblu",
    "outputId": "e05a2fea-55cc-44c7-f9ab-43164d8c433f"
   },
   "outputs": [
    {
     "data": {
      "image/png": "[encoded data removed]",
      "text/plain": [
       "<Figure size 640x480 with 2 Axes>"
      ]
     },
     "metadata": {},
     "output_type": "display_data"
    }
   ],
   "source": [
    "ax= plt.subplot()\n",
    "sns.heatmap(cf_matrix/np.sum(cf_matrix), annot=True,fmt='.2%', cmap='Blues', ax=ax);  \n",
    "\n",
    "ax.set_xlabel('Predicted labels');\n",
    "ax.set_ylabel('True labels'); \n",
    "ax.set_title('Confusion Matrix'); "
   ]
  },
  {
   "cell_type": "code",
   "execution_count": null,
   "metadata": {
    "id": "FgOT6znlTOKy"
   },
   "outputs": [],
   "source": []
  },
  {
   "cell_type": "markdown",
   "metadata": {
    "id": "KMz5qyUGTOnl"
   },
   "source": [
    "Conclusion- Random_forest_model Performs well with 84% Accuracy"
   ]
  },
  {
   "cell_type": "code",
   "execution_count": null,
   "metadata": {
    "id": "8er2Ikr_VoCr"
   },
   "outputs": [],
   "source": [
    "# Now we can export this model as a pickle file\n",
    "import pickle\n",
    "pickle.dump(best_random_forest_model, open('model.pkl', 'wb'))"
   ]
  },
  {
   "cell_type": "code",
   "execution_count": null,
   "metadata": {
    "id": "Zu0bOKtbZnx3"
   },
   "outputs": [],
   "source": [
    "# Need to save the encoder as well\n",
    "pickle.dump(encoders, open('label_encoder.pkl', 'wb'))"
   ]
  }
 ],
 "metadata": {
  "colab": {
   "provenance": []
  },
  "kernelspec": {
   "display_name": "Python 3 (ipykernel)",
   "language": "python",
   "name": "python3"
  },
  "language_info": {
   "codemirror_mode": {
    "name": "ipython",
    "version": 3
   },
   "file_extension": ".py",
   "mimetype": "text/x-python",
   "name": "python",
   "nbconvert_exporter": "python",
   "pygments_lexer": "ipython3",
   "version": "3.9.13"
  }
 },
 "nbformat": 4,
 "nbformat_minor": 1
}
